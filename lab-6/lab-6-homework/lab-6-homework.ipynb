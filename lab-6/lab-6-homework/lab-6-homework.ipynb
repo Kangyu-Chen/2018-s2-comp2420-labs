{
 "cells": [
  {
   "cell_type": "markdown",
   "metadata": {},
   "source": [
    "<h1 align='center'> COMP2420/COMP6420 - Introduction to Data Management, Analysis and Security</h1>\n",
    "\n",
    "<h2 align='center'> Homework Assessment 03</h2>\n",
    "\n",
    "*****\n",
    "\n",
    "Back from the break, and what a way to start ! Another set of questions !\n",
    "The folloing **4 questions** should test your understanding of the lecture and lab material taught during the lectures and the lab exercises in **Weeks 5 & 6**. In the **next lab (Lab 06)**, you'll be asked to complete any one of these exercises by your tutor in **Exam Mode**. Upon completion, you'll be marked by your tutor, based on the correctness and completeness of your solution."
   ]
  },
  {
   "cell_type": "code",
   "execution_count": 1,
   "metadata": {},
   "outputs": [],
   "source": [
    "# RUN THIS CELL TO IMPORT THE REQUIRED MODULES\n",
    "import pandas as pd\n",
    "import numpy as np\n",
    "import matplotlib.pyplot as plt\n",
    "%matplotlib inline\n",
    "import seaborn as sns\n",
    "from sklearn.linear_model import LinearRegression\n",
    "from sklearn.model_selection import train_test_split\n",
    "from sklearn.linear_model import SGDClassifier\n",
    "plt.style.use('seaborn')"
   ]
  },
  {
   "cell_type": "code",
   "execution_count": 2,
   "metadata": {},
   "outputs": [],
   "source": [
    "mobile_data = pd.read_csv('data/mobiles.csv')\n",
    "car_data = pd.read_csv('data/supercars.csv')"
   ]
  },
  {
   "cell_type": "markdown",
   "metadata": {},
   "source": [
    "### Dataset 1: Mobile Madness\n",
    "\n",
    "Mobile phones are constantly envolving and the prices are only increasing as time goes on. Is there a rhyme or reason to the pricing? We hope to use the dataset to find out. The dataset `mobiles` has the following features:\n",
    "\n",
    "| **Feature** | **Description** |\n",
    "| ----------- | --------------- |\n",
    "| blue        | Whether device has bluetooth {Yes: 1, No: 0}|\n",
    "| clock_speed | speed of the processor |\n",
    "| dual_sim    | whether the device can hold two unique sim cards {Yes: 1, No: 0} |\n",
    "| fc          | Megapixels in the front camera |\n",
    "| four_g      | Whether the device is 4g compatible {Yes: 1, No: 0} |\n",
    "| int_memory  | Internal Memory of the device (in GB) |\n",
    "| n_cores     | Number of Cores in the processor |\n",
    "| pc          | Back Camera Megapixels |\n",
    "| ram         | RAM of device (in MB) |\n",
    "| sc_h        | Screen Height |\n",
    "| sc_w        | Screen Width |\n",
    "| talk_time   | Time it takes on a call to drain the battery on a 3G call from 100% to 0%|\n",
    "| three_g     | Whether the device is 3G compatible {Yes: 1, No: 0} |\n",
    "| touch_screen| Whether the device has a touchscreen {Yes: 1, No: 0} |\n",
    "| wifi        | Whether the device has wifi compatability {Yes: 1, No: 0} | \n",
    "| price_range | Price range of the device {Low: 0, Medium: 1, High: 2, Very High: 3} |"
   ]
  },
  {
   "cell_type": "markdown",
   "metadata": {},
   "source": [
    "### Dataset 2: Supreme Supercars\n",
    "\n",
    "While we have worked with car datasets before, sometimes we only want to work with the best. Below is the features present within the `supercars` dataset\n",
    "\n",
    "| **Feature** | **Description** |\n",
    "| ----------- | --------------- |\n",
    "| car_full_nm        | Full name of car|\n",
    "| horsepower_bhp | Input break horsepower of the car |\n",
    "| rpm_horsepower_measure_point    | RPM the horsepower was measured at |\n",
    "| torque_lb_ft          | Torque (pounds per foot) |\n",
    "| rpm_torque_measure_point      | RPM the torque was measured at |\n",
    "| car_0_60_time_seconds  | Time for car to reach 0-60 |\n",
    "| engine_size_cc     | Engine size (cubic cms) |\n",
    "| engine_size_ci          | Engine size (cubic in) |\n",
    "| top_speed_mph         | Top Speed (Miles per hour) |\n",
    "| top_speed_kph        | Top Speed (KM per hour) |\n",
    "| horsepower_per_ton_bhp        | BHP per ton |\n",
    "| year   | Year made |\n",
    "| decade     | Decade of release |\n",
    "| make_nm | Manufacturer of Vehicle |\n",
    "| car_weight_tons        | Car weight in tons | \n",
    "| torque_per_ton | Torque per ton |"
   ]
  },
  {
   "cell_type": "markdown",
   "metadata": {},
   "source": [
    "### Exercise 1: Lets talk prices (Using Dataset #1)\n",
    "\n",
    "Xu poses of the question of whether the `talk time` of a device increases as the `price range` increases. Visualise the relationship between the price range categories and the average talk time, and explain the correlation (or lack of) between the two variables."
   ]
  },
  {
   "cell_type": "code",
   "execution_count": 54,
   "metadata": {},
   "outputs": [
    {
     "data": {
      "image/png": "[encoded data removed]",
      "text/plain": [
       "<Figure size 576x396 with 1 Axes>"
      ]
     },
     "metadata": {},
     "output_type": "display_data"
    }
   ],
   "source": [
    "# Enter code here\n",
    "mobile_data.head\n",
    "price_time=mobile_data[['price_range','talk_time']]\n",
    "price_time=price_time.groupby('price_range',as_index=False).mean()\n",
    "plt.plot(price_time['price_range'], price_time['talk_time'], c='orange')\n",
    "plt.xlabel(\"price range\")\n",
    "plt.ylabel(\"talk time\")\n",
    "plt.title(\"Relationship between price range and the talk time\")\n",
    "plt.show()"
   ]
  },
  {
   "cell_type": "markdown",
   "metadata": {},
   "source": [
    "#### Explination of Correlation\n",
    "    - Add Explination here"
   ]
  },
  {
   "cell_type": "markdown",
   "metadata": {},
   "source": [
    "### Exercise 2: More Power! (Using Dataset #2)\n",
    "\n",
    "Power isn't everything in a car, but it certainly helps. With 1500 different supercars of the previous 8 decades, it will be interesting to see how times have changed over the past 80 years. Your task is as follows:\n",
    "- Provide the mean, standard deviation, min and max values of `horsepower_bhp` and `engine_size_cc`\n",
    "- Provide the **Variance** of `horsepower_bhp` for cars in their respective decades. Provide the measure of variability for each decade as specified by the `decade` column in the DataFrame."
   ]
  },
  {
   "cell_type": "code",
   "execution_count": 55,
   "metadata": {},
   "outputs": [],
   "source": [
    "# Enter Code Here\n",
    "car_1=car_data[['horsepower_bhp','engine_size_cc']]\n",
    "car_1.agg(['mean','std','max', 'min'])\n",
    "car_2=car_data[['horsepower_bhp','decade']]\n",
    "car_2=car_2.groupby('decade',as_index=False).var()\n",
    "# Statistics of items"
   ]
  },
  {
   "cell_type": "markdown",
   "metadata": {},
   "source": [
    "### Exercise 3: This Makes My Head Score (Using Dataset #1)\n",
    "\n",
    "The score of any machine learning model will always be an important factor for determining how good the data you produce is, but there may be many different ways to do this. Your task is as follows:\n",
    "- Seperate the data such that your target column is `price_range`\n",
    "- Using the function provided to test the features, find the **smallest subset of the possible features** such that the **score of the model is over 0.4** \n",
    "\n",
    "Note: The classifier may return different values each time you run it for the same data since it will always start at a different point for determining the split. You're welcome to call the function within a loop to check the max possible value\n",
    "Note_2: If you use `price_range` in your features to predict `price_range`, you will receive an automatic grade of 0. This is a trivial model."
   ]
  },
  {
   "cell_type": "code",
   "execution_count": 56,
   "metadata": {},
   "outputs": [],
   "source": [
    "# Testing Function\n",
    "def scoring25(x, y, iterations=50):\n",
    "    x_train, x_test, y_train, y_test = train_test_split(x,y, random_state=3)\n",
    "    sgd = SGDClassifier(max_iter=iterations, tol=1e-3)\n",
    "    sgd.fit(x_train,y_train)\n",
    "    return sgd.score(x_test, y_test)"
   ]
  },
  {
   "cell_type": "code",
   "execution_count": 108,
   "metadata": {},
   "outputs": [],
   "source": [
    "# TODO: Select the most appropiate features as per the question out of the dataset and call the function above.\n",
    "# Note: If you wish for the model to train more on the data until it reaches convergence, you can simply add an 'iterations=number' (where number is the number of iterations) to train the data for longer\n"
   ]
  },
  {
   "cell_type": "code",
   "execution_count": 139,
   "metadata": {},
   "outputs": [
    {
     "name": "stdout",
     "output_type": "stream",
     "text": [
      "[['four_g', 'ram'], 0.404]\n"
     ]
    }
   ],
   "source": [
    "import itertools\n",
    "data_1=mobile_data.drop(['price_range'],axis=1)\n",
    "Result=[]\n",
    "for n in range(1,4):\n",
    "    combo=np.array(list(itertools.combinations(data_1.columns, n)))\n",
    "    for i in combo:\n",
    "        x=data_1[i]\n",
    "        y=mobile_data[['price_range']]\n",
    "        mobile_np = np.column_stack((x, y))\n",
    "        X = mobile_np[:,:-1]\n",
    "        Y = mobile_np[:,-1]\n",
    "        result=scoring25(X, Y, iterations=200)\n",
    "        if result>0.4:  \n",
    "            Result.append(list(i))\n",
    "            Result.append(result)\n",
    "print(Result[:2])"
   ]
  },
  {
   "cell_type": "markdown",
   "metadata": {},
   "source": [
    "### Exercise 4: Predicting Speed (Using Dataset #2)\n",
    "\n",
    "Linear Regression, back once again! We hope to use the data we have to impliment a linear regression model that will predict the `car_0_60_time_seconds` feature. Impliment a Linear Regression function that uses **as many features as possible** while still having an R^2 over 0.35"
   ]
  },
  {
   "cell_type": "code",
   "execution_count": 8,
   "metadata": {},
   "outputs": [],
   "source": [
    "# Testing function\n",
    "def lmscore(x,y):\n",
    "    x_train, x_test, y_train, y_test = train_test_split(x,y, random_state=3)\n",
    "    lm = LinearRegression()\n",
    "    lm.fit(x_train, y_train)\n",
    "    return lm.score(x_test, y_test)"
   ]
  },
  {
   "cell_type": "code",
   "execution_count": 9,
   "metadata": {},
   "outputs": [
    {
     "data": {
      "text/html": [
       "<div>\n",
       "<style scoped>\n",
       "    .dataframe tbody tr th:only-of-type {\n",
       "        vertical-align: middle;\n",
       "    }\n",
       "\n",
       "    .dataframe tbody tr th {\n",
       "        vertical-align: top;\n",
       "    }\n",
       "\n",
       "    .dataframe thead th {\n",
       "        text-align: right;\n",
       "    }\n",
       "</style>\n",
       "<table border=\"1\" class=\"dataframe\">\n",
       "  <thead>\n",
       "    <tr style=\"text-align: right;\">\n",
       "      <th></th>\n",
       "      <th>Unnamed: 0</th>\n",
       "      <th>car_full_nm</th>\n",
       "      <th>horsepower_bhp</th>\n",
       "      <th>rpm_horsepower_measure_point</th>\n",
       "      <th>torque_lb_ft</th>\n",
       "      <th>rpm_torque_measure_point</th>\n",
       "      <th>car_0_60_time_seconds</th>\n",
       "      <th>engine_size_cc</th>\n",
       "      <th>engine_size_ci</th>\n",
       "      <th>top_speed_mph</th>\n",
       "      <th>top_speed_kph</th>\n",
       "      <th>horsepower_per_ton_bhp</th>\n",
       "      <th>year</th>\n",
       "      <th>decade</th>\n",
       "      <th>make_nm</th>\n",
       "      <th>car_weight_tons</th>\n",
       "      <th>torque_per_ton</th>\n",
       "    </tr>\n",
       "  </thead>\n",
       "  <tbody>\n",
       "    <tr>\n",
       "      <th>0</th>\n",
       "      <td>0</td>\n",
       "      <td>Bugatti Veyron 8.0 litre W16 Super Sport - [2010]</td>\n",
       "      <td>1184</td>\n",
       "      <td>6400</td>\n",
       "      <td>0.0</td>\n",
       "      <td>0.0</td>\n",
       "      <td>2.5</td>\n",
       "      <td>7993.0</td>\n",
       "      <td>487.7</td>\n",
       "      <td>258.0</td>\n",
       "      <td>415.0</td>\n",
       "      <td>644.1</td>\n",
       "      <td>2010</td>\n",
       "      <td>2010s</td>\n",
       "      <td>Bugatti</td>\n",
       "      <td>1.838224</td>\n",
       "      <td>0.000000</td>\n",
       "    </tr>\n",
       "    <tr>\n",
       "      <th>1</th>\n",
       "      <td>1</td>\n",
       "      <td>Bugatti Veyron 16.4 Grand Sport Vitesse - [2012]</td>\n",
       "      <td>1184</td>\n",
       "      <td>6400</td>\n",
       "      <td>1106.0</td>\n",
       "      <td>3000.0</td>\n",
       "      <td>2.5</td>\n",
       "      <td>7993.0</td>\n",
       "      <td>487.7</td>\n",
       "      <td>255.0</td>\n",
       "      <td>410.0</td>\n",
       "      <td>594.9</td>\n",
       "      <td>2012</td>\n",
       "      <td>2010s</td>\n",
       "      <td>Bugatti</td>\n",
       "      <td>1.990250</td>\n",
       "      <td>555.708953</td>\n",
       "    </tr>\n",
       "    <tr>\n",
       "      <th>2</th>\n",
       "      <td>2</td>\n",
       "      <td>SSC Ultimate Aero TT - [2008]</td>\n",
       "      <td>1183</td>\n",
       "      <td>6950</td>\n",
       "      <td>1094.0</td>\n",
       "      <td>6150.0</td>\n",
       "      <td>2.8</td>\n",
       "      <td>6348.0</td>\n",
       "      <td>387.3</td>\n",
       "      <td>273.0</td>\n",
       "      <td>439.0</td>\n",
       "      <td>946.4</td>\n",
       "      <td>2008</td>\n",
       "      <td>2000s</td>\n",
       "      <td>SSC</td>\n",
       "      <td>1.250000</td>\n",
       "      <td>875.200000</td>\n",
       "    </tr>\n",
       "    <tr>\n",
       "      <th>3</th>\n",
       "      <td>3</td>\n",
       "      <td>Koenigsegg Agera R 5.0 V8 - [2012]</td>\n",
       "      <td>1124</td>\n",
       "      <td>7100</td>\n",
       "      <td>885.0</td>\n",
       "      <td>4100.0</td>\n",
       "      <td>2.9</td>\n",
       "      <td>5032.0</td>\n",
       "      <td>307.0</td>\n",
       "      <td>273.0</td>\n",
       "      <td>439.0</td>\n",
       "      <td>794.3</td>\n",
       "      <td>2012</td>\n",
       "      <td>2010s</td>\n",
       "      <td>Koenigsegg</td>\n",
       "      <td>1.415082</td>\n",
       "      <td>625.405249</td>\n",
       "    </tr>\n",
       "    <tr>\n",
       "      <th>4</th>\n",
       "      <td>4</td>\n",
       "      <td>Porsche 9FF GT9R - [2009]</td>\n",
       "      <td>1120</td>\n",
       "      <td>7850</td>\n",
       "      <td>774.0</td>\n",
       "      <td>5970.0</td>\n",
       "      <td>2.9</td>\n",
       "      <td>4000.0</td>\n",
       "      <td>244.0</td>\n",
       "      <td>256.0</td>\n",
       "      <td>411.0</td>\n",
       "      <td>832.0</td>\n",
       "      <td>2009</td>\n",
       "      <td>2000s</td>\n",
       "      <td>Porsche</td>\n",
       "      <td>1.346154</td>\n",
       "      <td>574.971429</td>\n",
       "    </tr>\n",
       "  </tbody>\n",
       "</table>\n",
       "</div>"
      ],
      "text/plain": [
       "   Unnamed: 0                                        car_full_nm  \\\n",
       "0           0  Bugatti Veyron 8.0 litre W16 Super Sport - [2010]   \n",
       "1           1   Bugatti Veyron 16.4 Grand Sport Vitesse - [2012]   \n",
       "2           2                      SSC Ultimate Aero TT - [2008]   \n",
       "3           3                 Koenigsegg Agera R 5.0 V8 - [2012]   \n",
       "4           4                          Porsche 9FF GT9R - [2009]   \n",
       "\n",
       "   horsepower_bhp  rpm_horsepower_measure_point  torque_lb_ft  \\\n",
       "0            1184                          6400           0.0   \n",
       "1            1184                          6400        1106.0   \n",
       "2            1183                          6950        1094.0   \n",
       "3            1124                          7100         885.0   \n",
       "4            1120                          7850         774.0   \n",
       "\n",
       "   rpm_torque_measure_point  car_0_60_time_seconds  engine_size_cc  \\\n",
       "0                       0.0                    2.5          7993.0   \n",
       "1                    3000.0                    2.5          7993.0   \n",
       "2                    6150.0                    2.8          6348.0   \n",
       "3                    4100.0                    2.9          5032.0   \n",
       "4                    5970.0                    2.9          4000.0   \n",
       "\n",
       "   engine_size_ci  top_speed_mph  top_speed_kph  horsepower_per_ton_bhp  year  \\\n",
       "0           487.7          258.0          415.0                   644.1  2010   \n",
       "1           487.7          255.0          410.0                   594.9  2012   \n",
       "2           387.3          273.0          439.0                   946.4  2008   \n",
       "3           307.0          273.0          439.0                   794.3  2012   \n",
       "4           244.0          256.0          411.0                   832.0  2009   \n",
       "\n",
       "  decade     make_nm  car_weight_tons  torque_per_ton  \n",
       "0  2010s     Bugatti         1.838224        0.000000  \n",
       "1  2010s     Bugatti         1.990250      555.708953  \n",
       "2  2000s         SSC         1.250000      875.200000  \n",
       "3  2010s  Koenigsegg         1.415082      625.405249  \n",
       "4  2000s     Porsche         1.346154      574.971429  "
      ]
     },
     "execution_count": 9,
     "metadata": {},
     "output_type": "execute_result"
    }
   ],
   "source": [
    "car_data.head()"
   ]
  },
  {
   "cell_type": "code",
   "execution_count": 10,
   "metadata": {},
   "outputs": [
    {
     "name": "stdout",
     "output_type": "stream",
     "text": [
      "[['Unnamed: 0', 'horsepower_bhp', 'rpm_horsepower_measure_point', 'torque_lb_ft', 'rpm_torque_measure_point', 'engine_size_cc', 'engine_size_ci', 'top_speed_mph', 'top_speed_kph', 'horsepower_per_ton_bhp', 'year', 'car_weight_tons', 'torque_per_ton'], 0.48971609174159203]\n"
     ]
    }
   ],
   "source": [
    "# TODO: Select the most appropiate features as per the question out of the dataset and call the function above.\n",
    "import itertools\n",
    "data_2 = car_data.drop(['car_0_60_time_seconds','car_full_nm','decade','make_nm'], axis=1)\n",
    "Result=[]\n",
    "for n in range(11,14):\n",
    "    combo=np.array(list(itertools.combinations(data_2.columns,n)))\n",
    "    for i in combo:\n",
    "        x=data_2[i].values\n",
    "        y=car_data['car_0_60_time_seconds'].values\n",
    "        result=lmscore(X,Y)\n",
    "        if result>0.35:\n",
    "            Result.append(list(i))\n",
    "            Result.append(result)\n",
    "print(Result[-2:])\n"
   ]
  },
  {
   "cell_type": "code",
   "execution_count": null,
   "metadata": {},
   "outputs": [],
   "source": []
  }
 ],
 "metadata": {
  "kernelspec": {
   "display_name": "Python 3",
   "language": "python",
   "name": "python3"
  },
  "language_info": {
   "codemirror_mode": {
    "name": "ipython",
    "version": 3
   },
   "file_extension": ".py",
   "mimetype": "text/x-python",
   "name": "python",
   "nbconvert_exporter": "python",
   "pygments_lexer": "ipython3",
   "version": "3.7.1"
  }
 },
 "nbformat": 4,
 "nbformat_minor": 2
}
