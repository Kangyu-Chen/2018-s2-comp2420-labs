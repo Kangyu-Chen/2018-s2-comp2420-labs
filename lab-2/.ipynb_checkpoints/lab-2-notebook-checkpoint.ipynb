{
 "cells": [
  {
   "cell_type": "markdown",
   "metadata": {},
   "source": [
    "<h1 align='center'> COMP2420/COMP6420 - Introduction to Data Management, Analysis and Security</h1>\n",
    "\n",
    "<h2 align='center'> Lab 02 - Data Analysis with NumPy & Pandas</h2>\n",
    "\n",
    "*****\n",
    "\n",
    "In Lab 01, we studied the basic of data structures in Python. Clearly, visualizing the data in the form of tables instead of lists and dictionaries, would have been a much better experience for most of you. **NumPy** and **Pandas** modules in Python provide that ease of visualization and computation, especially while working with huge amounts of data.   \n",
    "\n",
    "**Pandas** is one of the most widely used python modules for data science. It provides high-performance, easy to use structures and data analysis tools. Among other useful data structures, Pandas provides in-memory 2D table object called **Dataframe**. It works like a spreadsheet with column names and row labels. With dataframes,Pandas is capable of providing many additional functionalities like creating pivot tables, computing columns based on other columns and plotting graphs.\n",
    "\n",
    "**NumPy** (which stands for ‘Numeric Python’) is a Python module which provides fast mathematical computation on arrays and matrices. It provides the essential multi-dimensional array-oriented computing functionalities designed for high-level mathematical functions and scientific computation. Since, arrays and matrices are an essential part of the Machine Learning ecosystem, NumPy along with Machine Learning modules like Scikit-learn, Pandas, Matplotlib, TensorFlow, etc. complete the Python Machine Learning Ecosystem.\n",
    "\n",
    "For those of you, who still aren't impressed by the computation power and speed instilled by these two modules, let's do a little test to observe the difference in computation time between traditional Python and NumPy. Let's call this test **'Why NumPy?'**. "
   ]
  },
  {
   "cell_type": "code",
<<<<<<< HEAD
   "execution_count": 2,
=======
<<<<<<< HEAD
   "execution_count": 8,
=======
   "execution_count": 1,
>>>>>>> 2b5de55cbafcd3b09a30f1d86d0cb55847f73543
>>>>>>> 4a3a45cccd3b032ba58c5d71224e86e95624c9f0
   "metadata": {},
   "outputs": [],
   "source": [
    "# First things first! \n",
    "# We can't proceed without importing the necessary modules\n",
    "import numpy as np\n",
    "import pandas as pd\n",
    "# Notice how we have used aliases for both these modules \n",
    "# so we won't have to type in their full names repeatedly \n",
    "import time\n",
    "import math"
   ]
  },
  {
   "cell_type": "code",
<<<<<<< HEAD
   "execution_count": 3,
=======
<<<<<<< HEAD
   "execution_count": 9,
=======
   "execution_count": 2,
>>>>>>> 2b5de55cbafcd3b09a30f1d86d0cb55847f73543
>>>>>>> 4a3a45cccd3b032ba58c5d71224e86e95624c9f0
   "metadata": {},
   "outputs": [
    {
     "name": "stdout",
     "output_type": "stream",
     "text": [
<<<<<<< HEAD
      "Traditional Time = 2.0236 s.\n",
      "NumPy Time       = 0.0848 s.\n",
      "We can see that NumPy is approximately 24 times faster than Traditional Python.\n"
=======
<<<<<<< HEAD
      "Traditional Time = 0.5635 s.\n",
      "NumPy Time       = 0.0647 s.\n",
      "We can see that NumPy is approximately 9 times faster than Traditional Python.\n"
=======
      "Traditional Time = 3.0400 s.\n",
      "NumPy Time       = 0.2283 s.\n",
      "We can see that NumPy is approximately 13 times faster than Traditional Python.\n"
>>>>>>> 2b5de55cbafcd3b09a30f1d86d0cb55847f73543
>>>>>>> 4a3a45cccd3b032ba58c5d71224e86e95624c9f0
     ]
    }
   ],
   "source": [
    "# Now, let's compute the time taken for traditional Python v/s NumPy \n",
    "# to add elements of two lists with 10 million items each\n",
    "\n",
    "def trad_version():\n",
    "    t1 = time.time()\n",
    "    X = range(10000000)\n",
    "    Y = range(10000000)\n",
    "    Z = [x+y for x,y in zip(X,Y)]\n",
    "    return time.time() - t1\n",
    "\n",
    "def numpy_version():\n",
    "    t1 = time.time()\n",
    "    X = np.arange(10000000)\n",
    "    Y = np.arange(10000000)\n",
    "    Z = X + Y\n",
    "    return time.time() - t1\n",
    "\n",
    "traditional_time = trad_version()\n",
    "numpy_time = numpy_version()\n",
    "\n",
    "print(\"Traditional Time = \" + \"%.4f\" %(traditional_time) + \" s.\")\n",
    "print(\"NumPy Time       = \" + \"%.4f\" %(numpy_time) + \" s.\")\n",
    "print(\"We can see that NumPy is approximately %d times faster than Traditional Python.\" \n",
    "      %(round(traditional_time / numpy_time)))"
   ]
  },
  {
   "cell_type": "markdown",
   "metadata": {},
   "source": [
    "Besides this, there are some other advantages like - \n",
    "\n",
    "1. For machine learning operations, t is much easier to use NumPy’s **ndarray** (which provides a lot of convenient and optimized implementations of essential mathematical operations on vectors) over traditional **lists**.\n",
    "\n",
    "2. NumPy arrays are capable of performing all basic operations such as addition, subtraction, element-wise product, **matrix dot product**, element-wise division and conditional operations.\n",
    "\n",
    "3. Pandas **DataFrame** and **Series** objects are simple and intuitive to access, offering a variety of functionalities like creating **pivot tables**, grouping similar data, computing columns based on other columns and **plotting graphs**.\n",
    "\n",
    "\n",
    "Now that we have established the superiority of NumPy and Pandas over traditional Python, let's introduce you to the contents of these modules. Many of the functions and data structures discussed here, will be used repeatedly in the coming labs and assignments. So, **keep your eyes peeled**!! \n",
    "<br/><br/>\n",
    "\n",
    "\n",
    "<h3 align='center'>Pandas</h3>\n",
    "\n",
    "**Pandas** have two different data structures that we can use for manipulating different types of data. Here we will see - \n",
    "\n",
    "* **Series** (1-D data structures) - It is a 1-dimensional labeled array capable of holding any datatype (integers, strings, floating point numbers etc.). The axis labels are collectively referred to as the **index**.\n",
    "\n",
    "\n",
    "* **DataFrames** (2-D data structures) - It is a 2-dimensional labeled data structure with columns of potentially different types. You can think of it like a **spreadsheet** or **SQL table**, or a **dictionary of Series objects**. It is generally the most commonly used pandas object. Like Series, DataFrame accepts many different kinds of input datatypes.\n",
    "\n",
    "### Series"
   ]
  },
  {
   "cell_type": "code",
<<<<<<< HEAD
   "execution_count": 4,
=======
<<<<<<< HEAD
   "execution_count": 10,
=======
   "execution_count": 3,
>>>>>>> 2b5de55cbafcd3b09a30f1d86d0cb55847f73543
>>>>>>> 4a3a45cccd3b032ba58c5d71224e86e95624c9f0
   "metadata": {},
   "outputs": [
    {
     "data": {
      "text/plain": [
       "a    1\n",
       "b    2\n",
       "c    3\n",
       "d    4\n",
       "e    5\n",
       "dtype: int64"
      ]
     },
<<<<<<< HEAD
     "execution_count": 4,
=======
<<<<<<< HEAD
     "execution_count": 10,
=======
     "execution_count": 3,
>>>>>>> 2b5de55cbafcd3b09a30f1d86d0cb55847f73543
>>>>>>> 4a3a45cccd3b032ba58c5d71224e86e95624c9f0
     "metadata": {},
     "output_type": "execute_result"
    }
   ],
   "source": [
    "# Making a series from a list (with indexes / row names)\n",
    "# If you don't specify index, default index is 0, 1, 2, 3 ...\n",
    "s = pd.Series([1,2,3,4,5],index=['a', 'b', 'c', 'd', 'e'] )\n",
    "s"
   ]
  },
  {
   "cell_type": "code",
<<<<<<< HEAD
   "execution_count": 5,
=======
<<<<<<< HEAD
   "execution_count": 11,
=======
   "execution_count": 4,
>>>>>>> 2b5de55cbafcd3b09a30f1d86d0cb55847f73543
>>>>>>> 4a3a45cccd3b032ba58c5d71224e86e95624c9f0
   "metadata": {},
   "outputs": [
    {
     "data": {
      "text/plain": [
       "a    0.0\n",
       "b    1.0\n",
       "c    2.0\n",
       "dtype: float64"
      ]
     },
<<<<<<< HEAD
     "execution_count": 5,
=======
<<<<<<< HEAD
     "execution_count": 11,
=======
     "execution_count": 4,
>>>>>>> 2b5de55cbafcd3b09a30f1d86d0cb55847f73543
>>>>>>> 4a3a45cccd3b032ba58c5d71224e86e95624c9f0
     "metadata": {},
     "output_type": "execute_result"
    }
   ],
   "source": [
    "# Series from dictionary, where the keys are used as index, and the values as series values \n",
    "dict_s = {'a' : 0., 'b' : 1., 'c' : 2.}\n",
    "pd.Series(dict_s)"
   ]
  },
  {
   "cell_type": "code",
<<<<<<< HEAD
   "execution_count": 6,
=======
<<<<<<< HEAD
   "execution_count": 12,
=======
   "execution_count": 5,
>>>>>>> 2b5de55cbafcd3b09a30f1d86d0cb55847f73543
>>>>>>> 4a3a45cccd3b032ba58c5d71224e86e95624c9f0
   "metadata": {},
   "outputs": [
    {
     "name": "stdout",
     "output_type": "stream",
     "text": [
      "1st element of series: 1 \n",
      "\n"
     ]
    }
   ],
   "source": [
    "# Operations on series work more or less the same way as lists\n",
    "# 1st element of the series\n",
    "print(\"1st element of series:\", s[0], \"\\n\")"
   ]
  },
  {
   "cell_type": "code",
<<<<<<< HEAD
   "execution_count": 7,
=======
<<<<<<< HEAD
   "execution_count": 13,
=======
   "execution_count": 6,
>>>>>>> 2b5de55cbafcd3b09a30f1d86d0cb55847f73543
>>>>>>> 4a3a45cccd3b032ba58c5d71224e86e95624c9f0
   "metadata": {},
   "outputs": [
    {
     "name": "stdout",
     "output_type": "stream",
     "text": [
      "Element with index 'd': 4 \n",
      "\n"
     ]
    }
   ],
   "source": [
    "# Element with index 'd'\n",
    "print (\"Element with index 'd':\", s['d'], \"\\n\")"
   ]
  },
  {
   "cell_type": "code",
<<<<<<< HEAD
   "execution_count": 8,
=======
<<<<<<< HEAD
   "execution_count": 14,
=======
   "execution_count": 7,
>>>>>>> 2b5de55cbafcd3b09a30f1d86d0cb55847f73543
>>>>>>> 4a3a45cccd3b032ba58c5d71224e86e95624c9f0
   "metadata": {},
   "outputs": [
    {
     "name": "stdout",
     "output_type": "stream",
     "text": [
      "d    4\n",
      "e    5\n",
      "dtype: int64 \n",
      "\n"
     ]
    }
   ],
   "source": [
<<<<<<< HEAD
    "\n",
=======
>>>>>>> 2b5de55cbafcd3b09a30f1d86d0cb55847f73543
    "# Slicing the given series\n",
    "print(s[3:5], \"\\n\")"
   ]
  },
  {
   "cell_type": "code",
<<<<<<< HEAD
   "execution_count": 9,
=======
<<<<<<< HEAD
   "execution_count": 15,
=======
   "execution_count": 85,
>>>>>>> 2b5de55cbafcd3b09a30f1d86d0cb55847f73543
>>>>>>> 4a3a45cccd3b032ba58c5d71224e86e95624c9f0
   "metadata": {},
   "outputs": [
    {
     "name": "stdout",
     "output_type": "stream",
     "text": [
      "Median: 3.0\n",
      "1 is smaller than median\n",
      "2 is smaller than median\n",
      "3 is larger than median\n",
      "4 is larger than median\n",
      "5 is larger than median\n"
     ]
    }
   ],
   "source": [
    "# Comparing each element with the median of the series\n",
    "print(\"Median:\", s.median())\n",
    "for item in s:\n",
<<<<<<< HEAD
    "    print(item, \"is larger than median\" if item >= s.median() else \"is smaller than median\")"
=======
    "    print(item, \"is larger than median\" if item >= s.median()  else \"is smaller than median\")"
>>>>>>> 2b5de55cbafcd3b09a30f1d86d0cb55847f73543
   ]
  },
  {
   "cell_type": "code",
<<<<<<< HEAD
   "execution_count": 10,
=======
<<<<<<< HEAD
   "execution_count": 16,
=======
   "execution_count": 9,
>>>>>>> 2b5de55cbafcd3b09a30f1d86d0cb55847f73543
>>>>>>> 4a3a45cccd3b032ba58c5d71224e86e95624c9f0
   "metadata": {},
   "outputs": [
    {
     "name": "stdout",
     "output_type": "stream",
     "text": [
      "d    4\n",
      "e    5\n",
      "dtype: int64\n"
     ]
    }
   ],
   "source": [
    "# Print the elements that are greater than the median of series\n",
    "print(s[s > s.median()])"
   ]
  },
  {
   "cell_type": "markdown",
   "metadata": {},
   "source": [
    "### DataFrame"
   ]
  },
  {
   "cell_type": "code",
<<<<<<< HEAD
   "execution_count": 11,
=======
<<<<<<< HEAD
   "execution_count": 17,
=======
   "execution_count": 10,
>>>>>>> 2b5de55cbafcd3b09a30f1d86d0cb55847f73543
>>>>>>> 4a3a45cccd3b032ba58c5d71224e86e95624c9f0
   "metadata": {},
   "outputs": [
    {
     "data": {
      "text/html": [
       "<div>\n",
       "<style scoped>\n",
       "    .dataframe tbody tr th:only-of-type {\n",
       "        vertical-align: middle;\n",
       "    }\n",
       "\n",
       "    .dataframe tbody tr th {\n",
       "        vertical-align: top;\n",
       "    }\n",
       "\n",
       "    .dataframe thead th {\n",
       "        text-align: right;\n",
       "    }\n",
       "</style>\n",
       "<table border=\"1\" class=\"dataframe\">\n",
       "  <thead>\n",
       "    <tr style=\"text-align: right;\">\n",
       "      <th></th>\n",
       "      <th>one</th>\n",
       "      <th>two</th>\n",
       "    </tr>\n",
       "  </thead>\n",
       "  <tbody>\n",
       "    <tr>\n",
       "      <th>a</th>\n",
       "      <td>1</td>\n",
       "      <td>9</td>\n",
       "    </tr>\n",
       "    <tr>\n",
       "      <th>b</th>\n",
       "      <td>Harry</td>\n",
       "      <td>Matt</td>\n",
       "    </tr>\n",
       "    <tr>\n",
       "      <th>c</th>\n",
       "      <td>NaN</td>\n",
       "      <td>7.5</td>\n",
       "    </tr>\n",
       "    <tr>\n",
       "      <th>d</th>\n",
       "      <td>8.7</td>\n",
       "      <td>6.1</td>\n",
       "    </tr>\n",
       "  </tbody>\n",
       "</table>\n",
       "</div>"
      ],
      "text/plain": [
       "     one   two\n",
       "a      1     9\n",
       "b  Harry  Matt\n",
       "c    NaN   7.5\n",
       "d    8.7   6.1"
      ]
     },
<<<<<<< HEAD
     "execution_count": 11,
=======
<<<<<<< HEAD
     "execution_count": 17,
=======
     "execution_count": 10,
>>>>>>> 2b5de55cbafcd3b09a30f1d86d0cb55847f73543
>>>>>>> 4a3a45cccd3b032ba58c5d71224e86e95624c9f0
     "metadata": {},
     "output_type": "execute_result"
    }
   ],
   "source": [
    "# Making a dataframe from a dictionary of series\n",
    "dict_s = {'one' : pd.Series([1, 'Harry', 8.7], index=['a', 'b', 'd']),\n",
    "          'two' : pd.Series([9, 'Matt', 7.5, 6.1], index=['a', 'b', 'c', 'd'])}\n",
    "df = pd.DataFrame(dict_s)\n",
    "df"
   ]
  },
  {
   "cell_type": "markdown",
   "metadata": {},
   "source": [
    "Passing an **index** (row labels) and **columns** (column labels) along with your data is optional, but if you pass an index and / or columns, you are guaranteeing the index and / or columns of the resulting **DataFrame**. Thus, a **dict of Series** plus a specific index will discard all data not matching up to the passed index.\n",
    "\n",
    "You can also load a CSV file / Excel worksheet into a Python dataframe, using the following method:"
   ]
  },
  {
   "cell_type": "code",
<<<<<<< HEAD
   "execution_count": 12,
=======
<<<<<<< HEAD
   "execution_count": 18,
=======
   "execution_count": 11,
>>>>>>> 2b5de55cbafcd3b09a30f1d86d0cb55847f73543
>>>>>>> 4a3a45cccd3b032ba58c5d71224e86e95624c9f0
   "metadata": {},
   "outputs": [
    {
     "data": {
      "text/html": [
       "<div>\n",
       "<style scoped>\n",
       "    .dataframe tbody tr th:only-of-type {\n",
       "        vertical-align: middle;\n",
       "    }\n",
       "\n",
       "    .dataframe tbody tr th {\n",
       "        vertical-align: top;\n",
       "    }\n",
       "\n",
       "    .dataframe thead th {\n",
       "        text-align: right;\n",
       "    }\n",
       "</style>\n",
       "<table border=\"1\" class=\"dataframe\">\n",
       "  <thead>\n",
       "    <tr style=\"text-align: right;\">\n",
       "      <th></th>\n",
       "      <th>type</th>\n",
       "      <th>mpg</th>\n",
       "      <th>cyl</th>\n",
       "      <th>disp</th>\n",
       "      <th>hp</th>\n",
       "      <th>wt</th>\n",
       "      <th>speed</th>\n",
       "    </tr>\n",
       "  </thead>\n",
       "  <tbody>\n",
       "    <tr>\n",
       "      <th>0</th>\n",
       "      <td>AMC Ambassador Brougham</td>\n",
       "      <td>13.0</td>\n",
       "      <td>8</td>\n",
       "      <td>360.0</td>\n",
       "      <td>175.0</td>\n",
       "      <td>3821</td>\n",
       "      <td>11.0</td>\n",
       "    </tr>\n",
       "    <tr>\n",
       "      <th>1</th>\n",
       "      <td>AMC Ambassador DPL</td>\n",
       "      <td>15.0</td>\n",
       "      <td>8</td>\n",
       "      <td>390.0</td>\n",
       "      <td>190.0</td>\n",
       "      <td>3850</td>\n",
       "      <td>8.5</td>\n",
       "    </tr>\n",
       "    <tr>\n",
       "      <th>2</th>\n",
       "      <td>AMC Ambassador SST</td>\n",
       "      <td>17.0</td>\n",
       "      <td>8</td>\n",
       "      <td>304.0</td>\n",
       "      <td>150.0</td>\n",
       "      <td>3672</td>\n",
       "      <td>11.5</td>\n",
       "    </tr>\n",
       "    <tr>\n",
       "      <th>3</th>\n",
       "      <td>AMC Concord DL 6</td>\n",
       "      <td>20.2</td>\n",
       "      <td>6</td>\n",
       "      <td>232.0</td>\n",
       "      <td>90.0</td>\n",
       "      <td>3265</td>\n",
       "      <td>18.2</td>\n",
       "    </tr>\n",
       "    <tr>\n",
       "      <th>4</th>\n",
       "      <td>AMC Concord DL</td>\n",
       "      <td>18.1</td>\n",
       "      <td>6</td>\n",
       "      <td>258.0</td>\n",
       "      <td>120.0</td>\n",
       "      <td>3410</td>\n",
       "      <td>15.1</td>\n",
       "    </tr>\n",
       "  </tbody>\n",
       "</table>\n",
       "</div>"
      ],
      "text/plain": [
       "                      type   mpg  cyl   disp     hp    wt  speed\n",
       "0  AMC Ambassador Brougham  13.0    8  360.0  175.0  3821   11.0\n",
       "1       AMC Ambassador DPL  15.0    8  390.0  190.0  3850    8.5\n",
       "2       AMC Ambassador SST  17.0    8  304.0  150.0  3672   11.5\n",
       "3         AMC Concord DL 6  20.2    6  232.0   90.0  3265   18.2\n",
       "4           AMC Concord DL  18.1    6  258.0  120.0  3410   15.1"
      ]
     },
<<<<<<< HEAD
     "execution_count": 12,
=======
<<<<<<< HEAD
     "execution_count": 18,
=======
     "execution_count": 11,
>>>>>>> 2b5de55cbafcd3b09a30f1d86d0cb55847f73543
>>>>>>> 4a3a45cccd3b032ba58c5d71224e86e95624c9f0
     "metadata": {},
     "output_type": "execute_result"
    }
   ],
   "source": [
    "df_cars = pd.read_csv('cars.csv')\n",
    "# head() displays the first 5 rows of the resultant dataframe\n",
    "df_cars.head()"
   ]
  },
  {
   "cell_type": "markdown",
   "metadata": {},
   "source": [
    "Similarly, there are some other common methods to -\n",
    "\n",
    "* **df.columns** - returns a list of names of the columns\n",
    "* **df.values** - returns all values without index and column names in numpy array\n",
    "* **df.info()** - returns info about the data and datatypes for every column\n",
    "* **df.head()** - returns the top 5 (default) rows of the dataframe\n",
    "* **df.tail()** - returns the bottom 5 rows of the dataframe"
   ]
  },
  {
   "cell_type": "code",
<<<<<<< HEAD
   "execution_count": 13,
=======
<<<<<<< HEAD
   "execution_count": 26,
=======
   "execution_count": 91,
>>>>>>> 2b5de55cbafcd3b09a30f1d86d0cb55847f73543
>>>>>>> 4a3a45cccd3b032ba58c5d71224e86e95624c9f0
   "metadata": {},
   "outputs": [
    {
     "data": {
<<<<<<< HEAD
=======
<<<<<<< HEAD
>>>>>>> 4a3a45cccd3b032ba58c5d71224e86e95624c9f0
      "text/html": [
       "<div>\n",
       "<style scoped>\n",
       "    .dataframe tbody tr th:only-of-type {\n",
       "        vertical-align: middle;\n",
       "    }\n",
       "\n",
       "    .dataframe tbody tr th {\n",
       "        vertical-align: top;\n",
       "    }\n",
       "\n",
       "    .dataframe thead th {\n",
       "        text-align: right;\n",
       "    }\n",
       "</style>\n",
       "<table border=\"1\" class=\"dataframe\">\n",
       "  <thead>\n",
       "    <tr style=\"text-align: right;\">\n",
       "      <th></th>\n",
       "      <th>type</th>\n",
       "      <th>disp</th>\n",
       "    </tr>\n",
       "  </thead>\n",
       "  <tbody>\n",
       "    <tr>\n",
       "      <th>0</th>\n",
       "      <td>AMC Ambassador Brougham</td>\n",
       "      <td>360.0</td>\n",
       "    </tr>\n",
       "    <tr>\n",
       "      <th>1</th>\n",
       "      <td>AMC Ambassador DPL</td>\n",
       "      <td>390.0</td>\n",
       "    </tr>\n",
       "    <tr>\n",
       "      <th>2</th>\n",
       "      <td>AMC Ambassador SST</td>\n",
       "      <td>304.0</td>\n",
       "    </tr>\n",
       "    <tr>\n",
       "      <th>3</th>\n",
       "      <td>AMC Concord DL 6</td>\n",
       "      <td>232.0</td>\n",
       "    </tr>\n",
       "    <tr>\n",
       "      <th>4</th>\n",
       "      <td>AMC Concord DL</td>\n",
       "      <td>258.0</td>\n",
       "    </tr>\n",
       "  </tbody>\n",
       "</table>\n",
       "</div>"
      ],
<<<<<<< HEAD
=======
      "text/plain": [
       "                      type   disp\n",
       "0  AMC Ambassador Brougham  360.0\n",
       "1       AMC Ambassador DPL  390.0\n",
       "2       AMC Ambassador SST  304.0\n",
       "3         AMC Concord DL 6  232.0\n",
       "4           AMC Concord DL  258.0"
      ]
     },
     "execution_count": 26,
=======
>>>>>>> 4a3a45cccd3b032ba58c5d71224e86e95624c9f0
      "text/plain": [
       "                      type   disp\n",
       "0  AMC Ambassador Brougham  360.0\n",
       "1       AMC Ambassador DPL  390.0\n",
       "2       AMC Ambassador SST  304.0\n",
       "3         AMC Concord DL 6  232.0\n",
       "4           AMC Concord DL  258.0"
      ]
     },
<<<<<<< HEAD
     "execution_count": 13,
=======
     "execution_count": 91,
>>>>>>> 2b5de55cbafcd3b09a30f1d86d0cb55847f73543
>>>>>>> 4a3a45cccd3b032ba58c5d71224e86e95624c9f0
     "metadata": {},
     "output_type": "execute_result"
    }
   ],
   "source": [
    "# You can slice the dataframe in the following ways -\n",
    "\n",
    "# Accessing individual columns\n",
    "#df_cars['type']\n",
<<<<<<< HEAD
    "#df_cars.hp\n",
=======
    " #df_cars.hp\n",
>>>>>>> 2b5de55cbafcd3b09a30f1d86d0cb55847f73543
    "df_cars[['type','disp']].head()"
   ]
  },
  {
   "cell_type": "code",
<<<<<<< HEAD
   "execution_count": 14,
=======
<<<<<<< HEAD
   "execution_count": 28,
=======
   "execution_count": 67,
>>>>>>> 2b5de55cbafcd3b09a30f1d86d0cb55847f73543
>>>>>>> 4a3a45cccd3b032ba58c5d71224e86e95624c9f0
   "metadata": {},
   "outputs": [
    {
     "data": {
      "text/html": [
       "<div>\n",
       "<style scoped>\n",
       "    .dataframe tbody tr th:only-of-type {\n",
       "        vertical-align: middle;\n",
       "    }\n",
       "\n",
       "    .dataframe tbody tr th {\n",
       "        vertical-align: top;\n",
       "    }\n",
       "\n",
       "    .dataframe thead th {\n",
       "        text-align: right;\n",
       "    }\n",
       "</style>\n",
       "<table border=\"1\" class=\"dataframe\">\n",
       "  <thead>\n",
       "    <tr style=\"text-align: right;\">\n",
       "      <th></th>\n",
       "      <th>type</th>\n",
       "      <th>mpg</th>\n",
       "      <th>cyl</th>\n",
       "      <th>disp</th>\n",
       "      <th>hp</th>\n",
       "      <th>wt</th>\n",
       "      <th>speed</th>\n",
       "    </tr>\n",
       "  </thead>\n",
       "  <tbody>\n",
       "    <tr>\n",
       "      <th>1</th>\n",
       "      <td>AMC Ambassador DPL</td>\n",
       "      <td>15.0</td>\n",
       "      <td>8</td>\n",
       "      <td>390.0</td>\n",
       "      <td>190.0</td>\n",
       "      <td>3850</td>\n",
       "      <td>8.5</td>\n",
       "    </tr>\n",
       "    <tr>\n",
       "      <th>2</th>\n",
       "      <td>AMC Ambassador SST</td>\n",
       "      <td>17.0</td>\n",
       "      <td>8</td>\n",
       "      <td>304.0</td>\n",
       "      <td>150.0</td>\n",
       "      <td>3672</td>\n",
       "      <td>11.5</td>\n",
       "    </tr>\n",
       "  </tbody>\n",
       "</table>\n",
       "</div>"
      ],
      "text/plain": [
       "                 type   mpg  cyl   disp     hp    wt  speed\n",
       "1  AMC Ambassador DPL  15.0    8  390.0  190.0  3850    8.5\n",
       "2  AMC Ambassador SST  17.0    8  304.0  150.0  3672   11.5"
      ]
     },
<<<<<<< HEAD
     "execution_count": 14,
=======
<<<<<<< HEAD
     "execution_count": 28,
=======
     "execution_count": 67,
>>>>>>> 2b5de55cbafcd3b09a30f1d86d0cb55847f73543
>>>>>>> 4a3a45cccd3b032ba58c5d71224e86e95624c9f0
     "metadata": {},
     "output_type": "execute_result"
    }
   ],
   "source": [
    "# Accessing individual row\n",
    "#df_cars.loc[2] \n",
    "df_cars.iloc[1:3]"
   ]
  },
  {
   "cell_type": "code",
<<<<<<< HEAD
   "execution_count": 15,
=======
<<<<<<< HEAD
   "execution_count": 29,
=======
   "execution_count": 64,
>>>>>>> 2b5de55cbafcd3b09a30f1d86d0cb55847f73543
>>>>>>> 4a3a45cccd3b032ba58c5d71224e86e95624c9f0
   "metadata": {},
   "outputs": [
    {
     "data": {
      "text/html": [
       "<div>\n",
       "<style scoped>\n",
       "    .dataframe tbody tr th:only-of-type {\n",
       "        vertical-align: middle;\n",
       "    }\n",
       "\n",
       "    .dataframe tbody tr th {\n",
       "        vertical-align: top;\n",
       "    }\n",
       "\n",
       "    .dataframe thead th {\n",
       "        text-align: right;\n",
       "    }\n",
       "</style>\n",
       "<table border=\"1\" class=\"dataframe\">\n",
       "  <thead>\n",
       "    <tr style=\"text-align: right;\">\n",
       "      <th></th>\n",
       "      <th>type</th>\n",
<<<<<<< HEAD
       "      <th>disp</th>\n",
=======
       "      <th>cyl</th>\n",
>>>>>>> 2b5de55cbafcd3b09a30f1d86d0cb55847f73543
       "    </tr>\n",
       "  </thead>\n",
       "  <tbody>\n",
       "    <tr>\n",
       "      <th>1</th>\n",
       "      <td>AMC Ambassador DPL</td>\n",
<<<<<<< HEAD
       "      <td>390.0</td>\n",
=======
       "      <td>8</td>\n",
>>>>>>> 2b5de55cbafcd3b09a30f1d86d0cb55847f73543
       "    </tr>\n",
       "    <tr>\n",
       "      <th>2</th>\n",
       "      <td>AMC Ambassador SST</td>\n",
<<<<<<< HEAD
       "      <td>304.0</td>\n",
=======
       "      <td>8</td>\n",
>>>>>>> 2b5de55cbafcd3b09a30f1d86d0cb55847f73543
       "    </tr>\n",
       "  </tbody>\n",
       "</table>\n",
       "</div>"
      ],
      "text/plain": [
<<<<<<< HEAD
       "                 type   disp\n",
       "1  AMC Ambassador DPL  390.0\n",
       "2  AMC Ambassador SST  304.0"
      ]
     },
     "execution_count": 29,
=======
       "                 type  cyl\n",
       "1  AMC Ambassador DPL    8\n",
       "2  AMC Ambassador SST    8"
      ]
     },
<<<<<<< HEAD
     "execution_count": 15,
=======
     "execution_count": 64,
>>>>>>> 2b5de55cbafcd3b09a30f1d86d0cb55847f73543
>>>>>>> 4a3a45cccd3b032ba58c5d71224e86e95624c9f0
     "metadata": {},
     "output_type": "execute_result"
    }
   ],
   "source": [
    "# Accessing particular columns of selected rows\n",
<<<<<<< HEAD
    "df_cars[['type','disp']][1:3]\n",
    "#df_cars[1:3][['type','cyl']]"
=======
    "# df_cars[['type','disp']][1:3]\n",
    "df_cars[1:3][['type','cyl']]"
>>>>>>> 2b5de55cbafcd3b09a30f1d86d0cb55847f73543
   ]
  },
  {
   "cell_type": "markdown",
   "metadata": {},
   "source": [
    "### Filtering Rows\n",
    "We can also filter rows or select a subset of interesting rows based on the boolean comparison of two or more columns."
   ]
  },
  {
   "cell_type": "code",
<<<<<<< HEAD
   "execution_count": 16,
=======
<<<<<<< HEAD
   "execution_count": 35,
=======
   "execution_count": 41,
>>>>>>> 2b5de55cbafcd3b09a30f1d86d0cb55847f73543
>>>>>>> 4a3a45cccd3b032ba58c5d71224e86e95624c9f0
   "metadata": {},
   "outputs": [
    {
     "data": {
      "text/html": [
       "<div>\n",
       "<style scoped>\n",
       "    .dataframe tbody tr th:only-of-type {\n",
       "        vertical-align: middle;\n",
       "    }\n",
       "\n",
       "    .dataframe tbody tr th {\n",
       "        vertical-align: top;\n",
       "    }\n",
       "\n",
       "    .dataframe thead th {\n",
       "        text-align: right;\n",
       "    }\n",
       "</style>\n",
       "<table border=\"1\" class=\"dataframe\">\n",
       "  <thead>\n",
       "    <tr style=\"text-align: right;\">\n",
       "      <th></th>\n",
       "      <th>type</th>\n",
       "      <th>mpg</th>\n",
       "      <th>cyl</th>\n",
       "      <th>disp</th>\n",
       "      <th>hp</th>\n",
       "      <th>wt</th>\n",
       "      <th>speed</th>\n",
       "    </tr>\n",
       "  </thead>\n",
       "  <tbody>\n",
       "    <tr>\n",
       "      <th>240</th>\n",
       "      <td>Maxda RX-3</td>\n",
       "      <td>18.0</td>\n",
       "      <td>3</td>\n",
       "      <td>70.0</td>\n",
       "      <td>90.0</td>\n",
       "      <td>2124</td>\n",
       "      <td>13.5</td>\n",
       "    </tr>\n",
       "    <tr>\n",
       "      <th>248</th>\n",
       "      <td>Mazda RX-2 Coupe</td>\n",
       "      <td>19.0</td>\n",
       "      <td>3</td>\n",
       "      <td>70.0</td>\n",
       "      <td>97.0</td>\n",
       "      <td>2330</td>\n",
       "      <td>13.5</td>\n",
       "    </tr>\n",
       "    <tr>\n",
       "      <th>249</th>\n",
       "      <td>Mazda RX-4</td>\n",
       "      <td>21.5</td>\n",
       "      <td>3</td>\n",
       "      <td>80.0</td>\n",
       "      <td>110.0</td>\n",
       "      <td>2720</td>\n",
       "      <td>13.5</td>\n",
       "    </tr>\n",
       "    <tr>\n",
       "      <th>250</th>\n",
       "      <td>Mazda RX-7 Gs</td>\n",
       "      <td>23.7</td>\n",
       "      <td>3</td>\n",
       "      <td>70.0</td>\n",
       "      <td>100.0</td>\n",
       "      <td>2420</td>\n",
       "      <td>12.5</td>\n",
       "    </tr>\n",
       "  </tbody>\n",
       "</table>\n",
       "</div>"
      ],
      "text/plain": [
       "                 type   mpg  cyl  disp     hp    wt  speed\n",
       "240        Maxda RX-3  18.0    3  70.0   90.0  2124   13.5\n",
       "248  Mazda RX-2 Coupe  19.0    3  70.0   97.0  2330   13.5\n",
       "249        Mazda RX-4  21.5    3  80.0  110.0  2720   13.5\n",
       "250     Mazda RX-7 Gs  23.7    3  70.0  100.0  2420   12.5"
      ]
     },
<<<<<<< HEAD
     "execution_count": 16,
=======
<<<<<<< HEAD
     "execution_count": 35,
=======
     "execution_count": 41,
>>>>>>> 2b5de55cbafcd3b09a30f1d86d0cb55847f73543
>>>>>>> 4a3a45cccd3b032ba58c5d71224e86e95624c9f0
     "metadata": {},
     "output_type": "execute_result"
    }
   ],
   "source": [
<<<<<<< HEAD
    "df_cars[df_cars.hp > df_cars.disp]\n"
=======
    "positive_pt = df_cars[df_cars.hp > df_cars.disp]\n",
    "positive_pt"
>>>>>>> 2b5de55cbafcd3b09a30f1d86d0cb55847f73543
   ]
  },
  {
   "cell_type": "markdown",
   "metadata": {},
   "source": [
    "Now, let's see how much you have grasped from the brief rundown above. Answer the following questions based on the above dataframe. It should be already loaded into memory if you've run the above cells, so, you don't have to load the dataframe from the CSV again.\n",
    "\n",
    "## Exercise 1\n",
    "\n",
    "1. How would you print the last 25 rows of the dataframe?"
   ]
  },
  {
   "cell_type": "code",
<<<<<<< HEAD
   "execution_count": 34,
=======
   "execution_count": 17,
>>>>>>> 2b5de55cbafcd3b09a30f1d86d0cb55847f73543
   "metadata": {
    "scrolled": false
   },
   "outputs": [
    {
     "data": {
      "text/html": [
       "<div>\n",
       "<style scoped>\n",
       "    .dataframe tbody tr th:only-of-type {\n",
       "        vertical-align: middle;\n",
       "    }\n",
       "\n",
       "    .dataframe tbody tr th {\n",
       "        vertical-align: top;\n",
       "    }\n",
       "\n",
       "    .dataframe thead th {\n",
       "        text-align: right;\n",
       "    }\n",
       "</style>\n",
       "<table border=\"1\" class=\"dataframe\">\n",
       "  <thead>\n",
       "    <tr style=\"text-align: right;\">\n",
       "      <th></th>\n",
       "      <th>type</th>\n",
       "      <th>mpg</th>\n",
       "      <th>cyl</th>\n",
       "      <th>disp</th>\n",
       "      <th>hp</th>\n",
       "      <th>wt</th>\n",
       "      <th>speed</th>\n",
       "    </tr>\n",
       "  </thead>\n",
       "  <tbody>\n",
       "    <tr>\n",
       "      <th>381</th>\n",
       "      <td>Volkswagen Dasher</td>\n",
       "      <td>25.0</td>\n",
       "      <td>4</td>\n",
       "      <td>90.0</td>\n",
       "      <td>71.0</td>\n",
       "      <td>2223</td>\n",
       "      <td>16.5</td>\n",
       "    </tr>\n",
       "    <tr>\n",
       "      <th>382</th>\n",
       "      <td>Volkswagen Dasher</td>\n",
       "      <td>26.0</td>\n",
       "      <td>4</td>\n",
       "      <td>79.0</td>\n",
       "      <td>67.0</td>\n",
       "      <td>1963</td>\n",
       "      <td>15.5</td>\n",
       "    </tr>\n",
       "    <tr>\n",
       "      <th>383</th>\n",
       "      <td>Volkswagen Dasher</td>\n",
       "      <td>30.5</td>\n",
       "      <td>4</td>\n",
       "      <td>97.0</td>\n",
       "      <td>78.0</td>\n",
       "      <td>2190</td>\n",
       "      <td>14.1</td>\n",
       "    </tr>\n",
       "    <tr>\n",
       "      <th>384</th>\n",
       "      <td>Volkswagen Jetta</td>\n",
       "      <td>33.0</td>\n",
       "      <td>4</td>\n",
       "      <td>105.0</td>\n",
       "      <td>74.0</td>\n",
       "      <td>2190</td>\n",
       "      <td>14.2</td>\n",
       "    </tr>\n",
       "    <tr>\n",
       "      <th>385</th>\n",
       "      <td>Volkswagen Model 111</td>\n",
       "      <td>27.0</td>\n",
       "      <td>4</td>\n",
       "      <td>97.0</td>\n",
       "      <td>60.0</td>\n",
       "      <td>1834</td>\n",
       "      <td>19.0</td>\n",
       "    </tr>\n",
       "    <tr>\n",
       "      <th>386</th>\n",
       "      <td>Volkswagen Pickup</td>\n",
       "      <td>44.0</td>\n",
       "      <td>4</td>\n",
       "      <td>97.0</td>\n",
       "      <td>52.0</td>\n",
       "      <td>2130</td>\n",
       "      <td>24.6</td>\n",
       "    </tr>\n",
       "    <tr>\n",
       "      <th>387</th>\n",
       "      <td>Volkswagen Rabbit C (Diesel)</td>\n",
       "      <td>44.3</td>\n",
       "      <td>4</td>\n",
       "      <td>90.0</td>\n",
       "      <td>48.0</td>\n",
       "      <td>2085</td>\n",
       "      <td>21.7</td>\n",
       "    </tr>\n",
       "    <tr>\n",
       "      <th>388</th>\n",
       "      <td>Volkswagen Rabbit Custom Diesel</td>\n",
       "      <td>43.1</td>\n",
       "      <td>4</td>\n",
       "      <td>90.0</td>\n",
       "      <td>48.0</td>\n",
       "      <td>1985</td>\n",
       "      <td>21.5</td>\n",
       "    </tr>\n",
       "    <tr>\n",
       "      <th>389</th>\n",
       "      <td>Volkswagen Rabbit Custom</td>\n",
       "      <td>29.0</td>\n",
       "      <td>4</td>\n",
       "      <td>97.0</td>\n",
       "      <td>78.0</td>\n",
       "      <td>1940</td>\n",
       "      <td>14.5</td>\n",
       "    </tr>\n",
       "    <tr>\n",
       "      <th>390</th>\n",
       "      <td>Volkswagen Rabbit Custom</td>\n",
       "      <td>31.9</td>\n",
       "      <td>4</td>\n",
       "      <td>89.0</td>\n",
       "      <td>71.0</td>\n",
       "      <td>1925</td>\n",
       "      <td>14.0</td>\n",
       "    </tr>\n",
       "    <tr>\n",
       "      <th>391</th>\n",
       "      <td>Volkswagen Rabbit L</td>\n",
       "      <td>36.0</td>\n",
       "      <td>4</td>\n",
       "      <td>105.0</td>\n",
       "      <td>74.0</td>\n",
       "      <td>1980</td>\n",
       "      <td>15.3</td>\n",
       "    </tr>\n",
       "    <tr>\n",
       "      <th>392</th>\n",
       "      <td>Volkswagen Rabbit</td>\n",
       "      <td>29.0</td>\n",
       "      <td>4</td>\n",
       "      <td>90.0</td>\n",
       "      <td>70.0</td>\n",
       "      <td>1937</td>\n",
       "      <td>14.0</td>\n",
       "    </tr>\n",
       "    <tr>\n",
       "      <th>393</th>\n",
       "      <td>Volkswagen Rabbit</td>\n",
       "      <td>29.0</td>\n",
       "      <td>4</td>\n",
       "      <td>90.0</td>\n",
       "      <td>70.0</td>\n",
       "      <td>1937</td>\n",
       "      <td>14.2</td>\n",
       "    </tr>\n",
       "    <tr>\n",
       "      <th>394</th>\n",
       "      <td>Volkswagen Rabbit</td>\n",
       "      <td>29.5</td>\n",
       "      <td>4</td>\n",
       "      <td>97.0</td>\n",
       "      <td>71.0</td>\n",
       "      <td>1825</td>\n",
       "      <td>12.2</td>\n",
       "    </tr>\n",
       "    <tr>\n",
       "      <th>395</th>\n",
       "      <td>Volkswagen Rabbit</td>\n",
       "      <td>41.5</td>\n",
       "      <td>4</td>\n",
       "      <td>98.0</td>\n",
       "      <td>76.0</td>\n",
       "      <td>2144</td>\n",
       "      <td>14.7</td>\n",
       "    </tr>\n",
       "    <tr>\n",
       "      <th>396</th>\n",
       "      <td>Volkswagen Scirocco</td>\n",
       "      <td>31.5</td>\n",
       "      <td>4</td>\n",
       "      <td>89.0</td>\n",
       "      <td>71.0</td>\n",
       "      <td>1990</td>\n",
       "      <td>14.9</td>\n",
       "    </tr>\n",
       "    <tr>\n",
       "      <th>397</th>\n",
       "      <td>Volkswagen Super Beetle 117</td>\n",
       "      <td>NaN</td>\n",
       "      <td>4</td>\n",
       "      <td>97.0</td>\n",
       "      <td>48.0</td>\n",
       "      <td>1978</td>\n",
       "      <td>20.0</td>\n",
       "    </tr>\n",
       "    <tr>\n",
       "      <th>398</th>\n",
       "      <td>Volkswagen Super Beetle</td>\n",
       "      <td>26.0</td>\n",
       "      <td>4</td>\n",
       "      <td>97.0</td>\n",
       "      <td>46.0</td>\n",
       "      <td>1950</td>\n",
       "      <td>21.0</td>\n",
       "    </tr>\n",
       "    <tr>\n",
       "      <th>399</th>\n",
       "      <td>Volkswagen Type 3</td>\n",
       "      <td>23.0</td>\n",
       "      <td>4</td>\n",
       "      <td>97.0</td>\n",
       "      <td>54.0</td>\n",
       "      <td>2254</td>\n",
       "      <td>23.5</td>\n",
       "    </tr>\n",
       "    <tr>\n",
       "      <th>400</th>\n",
       "      <td>Volvo 144EA</td>\n",
       "      <td>19.0</td>\n",
       "      <td>4</td>\n",
       "      <td>121.0</td>\n",
       "      <td>112.0</td>\n",
       "      <td>2868</td>\n",
       "      <td>15.5</td>\n",
       "    </tr>\n",
       "    <tr>\n",
       "      <th>401</th>\n",
       "      <td>Volvo 145E (Wagon)</td>\n",
       "      <td>18.0</td>\n",
       "      <td>4</td>\n",
       "      <td>121.0</td>\n",
       "      <td>112.0</td>\n",
       "      <td>2933</td>\n",
       "      <td>14.5</td>\n",
       "    </tr>\n",
       "    <tr>\n",
       "      <th>402</th>\n",
       "      <td>Volvo 244DL</td>\n",
       "      <td>22.0</td>\n",
       "      <td>4</td>\n",
       "      <td>121.0</td>\n",
       "      <td>98.0</td>\n",
       "      <td>2945</td>\n",
       "      <td>14.5</td>\n",
       "    </tr>\n",
       "    <tr>\n",
       "      <th>403</th>\n",
       "      <td>Volvo 245</td>\n",
       "      <td>20.0</td>\n",
       "      <td>4</td>\n",
       "      <td>130.0</td>\n",
       "      <td>102.0</td>\n",
       "      <td>3150</td>\n",
       "      <td>15.7</td>\n",
       "    </tr>\n",
       "    <tr>\n",
       "      <th>404</th>\n",
       "      <td>Volvo 264GL</td>\n",
       "      <td>17.0</td>\n",
       "      <td>6</td>\n",
       "      <td>163.0</td>\n",
       "      <td>125.0</td>\n",
       "      <td>3140</td>\n",
       "      <td>13.6</td>\n",
       "    </tr>\n",
       "    <tr>\n",
       "      <th>405</th>\n",
       "      <td>Volvo Diesel</td>\n",
       "      <td>30.7</td>\n",
       "      <td>6</td>\n",
       "      <td>145.0</td>\n",
       "      <td>76.0</td>\n",
       "      <td>3160</td>\n",
       "      <td>19.6</td>\n",
       "    </tr>\n",
       "  </tbody>\n",
       "</table>\n",
       "</div>"
      ],
      "text/plain": [
       "                                type   mpg  cyl   disp     hp    wt  speed\n",
       "381                Volkswagen Dasher  25.0    4   90.0   71.0  2223   16.5\n",
       "382                Volkswagen Dasher  26.0    4   79.0   67.0  1963   15.5\n",
       "383                Volkswagen Dasher  30.5    4   97.0   78.0  2190   14.1\n",
       "384                 Volkswagen Jetta  33.0    4  105.0   74.0  2190   14.2\n",
       "385             Volkswagen Model 111  27.0    4   97.0   60.0  1834   19.0\n",
       "386                Volkswagen Pickup  44.0    4   97.0   52.0  2130   24.6\n",
       "387     Volkswagen Rabbit C (Diesel)  44.3    4   90.0   48.0  2085   21.7\n",
       "388  Volkswagen Rabbit Custom Diesel  43.1    4   90.0   48.0  1985   21.5\n",
       "389         Volkswagen Rabbit Custom  29.0    4   97.0   78.0  1940   14.5\n",
       "390         Volkswagen Rabbit Custom  31.9    4   89.0   71.0  1925   14.0\n",
       "391              Volkswagen Rabbit L  36.0    4  105.0   74.0  1980   15.3\n",
       "392                Volkswagen Rabbit  29.0    4   90.0   70.0  1937   14.0\n",
       "393                Volkswagen Rabbit  29.0    4   90.0   70.0  1937   14.2\n",
       "394                Volkswagen Rabbit  29.5    4   97.0   71.0  1825   12.2\n",
       "395                Volkswagen Rabbit  41.5    4   98.0   76.0  2144   14.7\n",
       "396              Volkswagen Scirocco  31.5    4   89.0   71.0  1990   14.9\n",
       "397      Volkswagen Super Beetle 117   NaN    4   97.0   48.0  1978   20.0\n",
       "398          Volkswagen Super Beetle  26.0    4   97.0   46.0  1950   21.0\n",
       "399                Volkswagen Type 3  23.0    4   97.0   54.0  2254   23.5\n",
       "400                      Volvo 144EA  19.0    4  121.0  112.0  2868   15.5\n",
       "401               Volvo 145E (Wagon)  18.0    4  121.0  112.0  2933   14.5\n",
       "402                      Volvo 244DL  22.0    4  121.0   98.0  2945   14.5\n",
       "403                        Volvo 245  20.0    4  130.0  102.0  3150   15.7\n",
       "404                      Volvo 264GL  17.0    6  163.0  125.0  3140   13.6\n",
       "405                     Volvo Diesel  30.7    6  145.0   76.0  3160   19.6"
      ]
     },
<<<<<<< HEAD
     "execution_count": 34,
=======
     "execution_count": 17,
>>>>>>> 2b5de55cbafcd3b09a30f1d86d0cb55847f73543
     "metadata": {},
     "output_type": "execute_result"
    }
   ],
   "source": [
    "# YOUR ANSWER HERE\n",
    "\n",
    "df_cars[-25:]"
   ]
  },
  {
   "cell_type": "markdown",
   "metadata": {},
   "source": [
    "2. How would you filter out the cars which have a mileage (mpg) greater than 40, but speed less than 20?  "
   ]
  },
  {
   "cell_type": "code",
<<<<<<< HEAD
   "execution_count": 18,
=======
<<<<<<< HEAD
   "execution_count": 50,
=======
   "execution_count": 74,
>>>>>>> 2b5de55cbafcd3b09a30f1d86d0cb55847f73543
>>>>>>> 4a3a45cccd3b032ba58c5d71224e86e95624c9f0
   "metadata": {},
   "outputs": [
    {
     "name": "stderr",
     "output_type": "stream",
     "text": [
<<<<<<< HEAD
      "/usr/local/anaconda3/lib/python3.6/site-packages/ipykernel_launcher.py:2: UserWarning: Boolean Series key will be reindexed to match DataFrame index.\n",
      "  \n"
=======
      "C:\\Users\\TouTa\\Anaconda3\\lib\\site-packages\\ipykernel_launcher.py:3: UserWarning: Boolean Series key will be reindexed to match DataFrame index.\n",
      "  This is separate from the ipykernel package so we can avoid doing imports until\n"
>>>>>>> 2b5de55cbafcd3b09a30f1d86d0cb55847f73543
     ]
    },
    {
     "data": {
      "text/html": [
       "<div>\n",
       "<style scoped>\n",
       "    .dataframe tbody tr th:only-of-type {\n",
       "        vertical-align: middle;\n",
       "    }\n",
       "\n",
       "    .dataframe tbody tr th {\n",
       "        vertical-align: top;\n",
       "    }\n",
       "\n",
       "    .dataframe thead th {\n",
       "        text-align: right;\n",
       "    }\n",
       "</style>\n",
       "<table border=\"1\" class=\"dataframe\">\n",
       "  <thead>\n",
       "    <tr style=\"text-align: right;\">\n",
       "      <th></th>\n",
       "      <th>type</th>\n",
       "      <th>mpg</th>\n",
       "      <th>cyl</th>\n",
       "      <th>disp</th>\n",
       "      <th>hp</th>\n",
       "      <th>wt</th>\n",
       "      <th>speed</th>\n",
       "    </tr>\n",
       "  </thead>\n",
       "  <tbody>\n",
       "    <tr>\n",
       "      <th>117</th>\n",
       "      <td>Datsun 210</td>\n",
       "      <td>40.8</td>\n",
       "      <td>4</td>\n",
       "      <td>85.0</td>\n",
       "      <td>65.0</td>\n",
       "      <td>2110</td>\n",
       "      <td>19.2</td>\n",
       "    </tr>\n",
       "    <tr>\n",
       "      <th>232</th>\n",
       "      <td>Honda Civic 1500 GL</td>\n",
       "      <td>44.6</td>\n",
       "      <td>4</td>\n",
       "      <td>91.0</td>\n",
       "      <td>67.0</td>\n",
       "      <td>1850</td>\n",
       "      <td>13.8</td>\n",
       "    </tr>\n",
       "    <tr>\n",
       "      <th>247</th>\n",
       "      <td>Mazda GLC</td>\n",
       "      <td>46.6</td>\n",
       "      <td>4</td>\n",
       "      <td>86.0</td>\n",
       "      <td>65.0</td>\n",
       "      <td>2110</td>\n",
       "      <td>17.9</td>\n",
       "    </tr>\n",
       "    <tr>\n",
       "      <th>340</th>\n",
       "      <td>Renault Lecar Deluxe</td>\n",
       "      <td>40.9</td>\n",
       "      <td>4</td>\n",
       "      <td>85.0</td>\n",
       "      <td>NaN</td>\n",
       "      <td>1835</td>\n",
       "      <td>17.3</td>\n",
       "    </tr>\n",
       "    <tr>\n",
       "      <th>395</th>\n",
       "      <td>Volkswagen Rabbit</td>\n",
       "      <td>41.5</td>\n",
       "      <td>4</td>\n",
       "      <td>98.0</td>\n",
       "      <td>76.0</td>\n",
       "      <td>2144</td>\n",
       "      <td>14.7</td>\n",
       "    </tr>\n",
       "  </tbody>\n",
       "</table>\n",
       "</div>"
      ],
      "text/plain": [
       "                     type   mpg  cyl  disp    hp    wt  speed\n",
       "117            Datsun 210  40.8    4  85.0  65.0  2110   19.2\n",
       "232   Honda Civic 1500 GL  44.6    4  91.0  67.0  1850   13.8\n",
       "247             Mazda GLC  46.6    4  86.0  65.0  2110   17.9\n",
       "340  Renault Lecar Deluxe  40.9    4  85.0   NaN  1835   17.3\n",
       "395     Volkswagen Rabbit  41.5    4  98.0  76.0  2144   14.7"
      ]
     },
<<<<<<< HEAD
     "execution_count": 18,
=======
<<<<<<< HEAD
     "execution_count": 50,
=======
     "execution_count": 74,
>>>>>>> 2b5de55cbafcd3b09a30f1d86d0cb55847f73543
>>>>>>> 4a3a45cccd3b032ba58c5d71224e86e95624c9f0
     "metadata": {},
     "output_type": "execute_result"
    }
   ],
   "source": [
    "# YOUR ANSWER HERE\n",
<<<<<<< HEAD
    "df_cars[df_cars.mpg>40][df_cars.speed<20]"
=======
    "\n",
    "df_cars_mpg_speed=df_cars[df_cars.mpg>40][df_cars.speed<20]\n",
    "df_cars_mpg_speed"
>>>>>>> 2b5de55cbafcd3b09a30f1d86d0cb55847f73543
   ]
  },
  {
   "cell_type": "markdown",
   "metadata": {},
   "source": [
    "Suppose, your friend Matt wants to buy a new car, and asks for your help to zero in on the best suitable model for him from this dataset. Someone told him that mileage is a very important factor while choosing a car, and wants you to sort the dataset by decreasing value of mpg.   \n",
    "\n",
    "3. How would you print the data for **top 15 cars** with the highest miles per gallon (mpg)?"
   ]
  },
  {
   "cell_type": "code",
<<<<<<< HEAD
   "execution_count": 19,
=======
<<<<<<< HEAD
   "execution_count": 57,
   "metadata": {},
   "outputs": [
    {
     "ename": "SyntaxError",
     "evalue": "invalid syntax (<ipython-input-57-92fcd044cda0>, line 3)",
     "output_type": "error",
     "traceback": [
      "\u001b[0;36m  File \u001b[0;32m\"<ipython-input-57-92fcd044cda0>\"\u001b[0;36m, line \u001b[0;32m3\u001b[0m\n\u001b[0;31m    df_cars.[['mpg']]\u001b[0m\n\u001b[0m            ^\u001b[0m\n\u001b[0;31mSyntaxError\u001b[0m\u001b[0;31m:\u001b[0m invalid syntax\n"
     ]
=======
   "execution_count": 29,
>>>>>>> 4a3a45cccd3b032ba58c5d71224e86e95624c9f0
   "metadata": {},
   "outputs": [
    {
     "data": {
      "text/html": [
       "<div>\n",
       "<style scoped>\n",
       "    .dataframe tbody tr th:only-of-type {\n",
       "        vertical-align: middle;\n",
       "    }\n",
       "\n",
       "    .dataframe tbody tr th {\n",
       "        vertical-align: top;\n",
       "    }\n",
       "\n",
       "    .dataframe thead th {\n",
       "        text-align: right;\n",
       "    }\n",
       "</style>\n",
       "<table border=\"1\" class=\"dataframe\">\n",
       "  <thead>\n",
       "    <tr style=\"text-align: right;\">\n",
       "      <th></th>\n",
       "      <th>type</th>\n",
       "      <th>mpg</th>\n",
       "      <th>cyl</th>\n",
       "      <th>disp</th>\n",
       "      <th>hp</th>\n",
       "      <th>wt</th>\n",
       "      <th>speed</th>\n",
       "    </tr>\n",
       "  </thead>\n",
       "  <tbody>\n",
       "    <tr>\n",
       "      <th>247</th>\n",
       "      <td>Mazda GLC</td>\n",
       "      <td>46.6</td>\n",
       "      <td>4</td>\n",
       "      <td>86.0</td>\n",
       "      <td>65.0</td>\n",
       "      <td>2110</td>\n",
       "      <td>17.9</td>\n",
       "    </tr>\n",
       "    <tr>\n",
       "      <th>232</th>\n",
       "      <td>Honda Civic 1500 GL</td>\n",
       "      <td>44.6</td>\n",
       "      <td>4</td>\n",
       "      <td>91.0</td>\n",
       "      <td>67.0</td>\n",
       "      <td>1850</td>\n",
       "      <td>13.8</td>\n",
       "    </tr>\n",
       "    <tr>\n",
       "      <th>387</th>\n",
       "      <td>Volkswagen Rabbit C (Diesel)</td>\n",
       "      <td>44.3</td>\n",
       "      <td>4</td>\n",
       "      <td>90.0</td>\n",
       "      <td>48.0</td>\n",
       "      <td>2085</td>\n",
       "      <td>21.7</td>\n",
       "    </tr>\n",
       "    <tr>\n",
       "      <th>386</th>\n",
       "      <td>Volkswagen Pickup</td>\n",
       "      <td>44.0</td>\n",
       "      <td>4</td>\n",
       "      <td>97.0</td>\n",
       "      <td>52.0</td>\n",
       "      <td>2130</td>\n",
       "      <td>24.6</td>\n",
       "    </tr>\n",
       "    <tr>\n",
       "      <th>380</th>\n",
       "      <td>Volkswagen Dasher (Diesel)</td>\n",
       "      <td>43.4</td>\n",
       "      <td>4</td>\n",
       "      <td>90.0</td>\n",
       "      <td>48.0</td>\n",
       "      <td>2335</td>\n",
       "      <td>23.7</td>\n",
       "    </tr>\n",
       "    <tr>\n",
       "      <th>388</th>\n",
       "      <td>Volkswagen Rabbit Custom Diesel</td>\n",
       "      <td>43.1</td>\n",
       "      <td>4</td>\n",
       "      <td>90.0</td>\n",
       "      <td>48.0</td>\n",
       "      <td>1985</td>\n",
       "      <td>21.5</td>\n",
       "    </tr>\n",
       "    <tr>\n",
       "      <th>395</th>\n",
       "      <td>Volkswagen Rabbit</td>\n",
       "      <td>41.5</td>\n",
       "      <td>4</td>\n",
       "      <td>98.0</td>\n",
       "      <td>76.0</td>\n",
       "      <td>2144</td>\n",
       "      <td>14.7</td>\n",
       "    </tr>\n",
       "    <tr>\n",
       "      <th>340</th>\n",
       "      <td>Renault Lecar Deluxe</td>\n",
       "      <td>40.9</td>\n",
       "      <td>4</td>\n",
       "      <td>85.0</td>\n",
       "      <td>NaN</td>\n",
       "      <td>1835</td>\n",
       "      <td>17.3</td>\n",
       "    </tr>\n",
       "    <tr>\n",
       "      <th>117</th>\n",
       "      <td>Datsun 210</td>\n",
       "      <td>40.8</td>\n",
       "      <td>4</td>\n",
       "      <td>85.0</td>\n",
       "      <td>65.0</td>\n",
       "      <td>2110</td>\n",
       "      <td>19.2</td>\n",
       "    </tr>\n",
       "    <tr>\n",
       "      <th>130</th>\n",
       "      <td>Datsun B210 GX</td>\n",
       "      <td>39.4</td>\n",
       "      <td>4</td>\n",
       "      <td>85.0</td>\n",
       "      <td>70.0</td>\n",
       "      <td>2070</td>\n",
       "      <td>18.6</td>\n",
       "    </tr>\n",
       "    <tr>\n",
       "      <th>373</th>\n",
       "      <td>Toyota Starlet</td>\n",
       "      <td>39.1</td>\n",
       "      <td>4</td>\n",
       "      <td>79.0</td>\n",
       "      <td>58.0</td>\n",
       "      <td>1755</td>\n",
       "      <td>16.9</td>\n",
       "    </tr>\n",
       "    <tr>\n",
       "      <th>290</th>\n",
       "      <td>Plymouth Champ</td>\n",
       "      <td>39.0</td>\n",
       "      <td>4</td>\n",
       "      <td>86.0</td>\n",
       "      <td>64.0</td>\n",
       "      <td>1875</td>\n",
       "      <td>16.4</td>\n",
       "    </tr>\n",
       "    <tr>\n",
       "      <th>357</th>\n",
       "      <td>Toyota Corolla Tercel</td>\n",
       "      <td>38.1</td>\n",
       "      <td>4</td>\n",
       "      <td>89.0</td>\n",
       "      <td>60.0</td>\n",
       "      <td>1968</td>\n",
       "      <td>18.8</td>\n",
       "    </tr>\n",
       "    <tr>\n",
       "      <th>237</th>\n",
       "      <td>Honda Civic</td>\n",
       "      <td>38.0</td>\n",
       "      <td>4</td>\n",
       "      <td>91.0</td>\n",
       "      <td>67.0</td>\n",
       "      <td>1965</td>\n",
       "      <td>15.0</td>\n",
       "    </tr>\n",
       "    <tr>\n",
       "      <th>303</th>\n",
       "      <td>Plymouth Horizon Miser</td>\n",
       "      <td>38.0</td>\n",
       "      <td>4</td>\n",
       "      <td>105.0</td>\n",
       "      <td>63.0</td>\n",
       "      <td>2125</td>\n",
       "      <td>14.7</td>\n",
       "    </tr>\n",
       "  </tbody>\n",
       "</table>\n",
       "</div>"
      ],
      "text/plain": [
       "                                type   mpg  cyl   disp    hp    wt  speed\n",
       "247                        Mazda GLC  46.6    4   86.0  65.0  2110   17.9\n",
       "232              Honda Civic 1500 GL  44.6    4   91.0  67.0  1850   13.8\n",
       "387     Volkswagen Rabbit C (Diesel)  44.3    4   90.0  48.0  2085   21.7\n",
       "386                Volkswagen Pickup  44.0    4   97.0  52.0  2130   24.6\n",
       "380       Volkswagen Dasher (Diesel)  43.4    4   90.0  48.0  2335   23.7\n",
       "388  Volkswagen Rabbit Custom Diesel  43.1    4   90.0  48.0  1985   21.5\n",
       "395                Volkswagen Rabbit  41.5    4   98.0  76.0  2144   14.7\n",
       "340             Renault Lecar Deluxe  40.9    4   85.0   NaN  1835   17.3\n",
       "117                       Datsun 210  40.8    4   85.0  65.0  2110   19.2\n",
       "130                   Datsun B210 GX  39.4    4   85.0  70.0  2070   18.6\n",
       "373                   Toyota Starlet  39.1    4   79.0  58.0  1755   16.9\n",
       "290                   Plymouth Champ  39.0    4   86.0  64.0  1875   16.4\n",
       "357            Toyota Corolla Tercel  38.1    4   89.0  60.0  1968   18.8\n",
       "237                      Honda Civic  38.0    4   91.0  67.0  1965   15.0\n",
       "303           Plymouth Horizon Miser  38.0    4  105.0  63.0  2125   14.7"
      ]
     },
     "execution_count": 19,
     "metadata": {},
     "output_type": "execute_result"
>>>>>>> 2b5de55cbafcd3b09a30f1d86d0cb55847f73543
    }
   ],
   "source": [
    "# YOUR ANSWER HERE\n",
    "# SAVE YOUR RESULT TO A NEW DATAFRAME FOR FURTHER COMPUTATIONS\n",
<<<<<<< HEAD
    "df_cars.[['mpg']].head(15)\n",
    "\n"
=======
    "\n",
    "df_cars_top15mpg=df_cars.sort_values(by=['mpg'],ascending=False).head(15)\n",
    "df_cars_top15mpg"
>>>>>>> 2b5de55cbafcd3b09a30f1d86d0cb55847f73543
   ]
  },
  {
   "cell_type": "markdown",
   "metadata": {},
   "source": [
    "He further finds out that a vehicle's horsepower when divided by its weight gives us the power-to-weight ratio, which is represented as horsepower to 10 pounds. **The higher that number, the better your car is going to be in terms of performance.** \n",
    "\n",
    "3. How would you find out the top 10 cars (from the above result) with the highest **horsepower (hp) / weight** ratio?"
   ]
  },
  {
   "cell_type": "code",
<<<<<<< HEAD
   "execution_count": 20,
=======
<<<<<<< HEAD
   "execution_count": 19,
   "metadata": {},
   "outputs": [],
=======
   "execution_count": 52,
>>>>>>> 4a3a45cccd3b032ba58c5d71224e86e95624c9f0
   "metadata": {},
   "outputs": [
    {
     "data": {
      "text/html": [
       "<div>\n",
       "<style scoped>\n",
       "    .dataframe tbody tr th:only-of-type {\n",
       "        vertical-align: middle;\n",
       "    }\n",
       "\n",
       "    .dataframe tbody tr th {\n",
       "        vertical-align: top;\n",
       "    }\n",
       "\n",
       "    .dataframe thead th {\n",
       "        text-align: right;\n",
       "    }\n",
       "</style>\n",
       "<table border=\"1\" class=\"dataframe\">\n",
       "  <thead>\n",
       "    <tr style=\"text-align: right;\">\n",
       "      <th></th>\n",
       "      <th>type</th>\n",
       "      <th>mpg</th>\n",
       "      <th>cyl</th>\n",
       "      <th>disp</th>\n",
       "      <th>hp</th>\n",
       "      <th>wt</th>\n",
       "      <th>speed</th>\n",
       "      <th>hw</th>\n",
       "    </tr>\n",
       "  </thead>\n",
       "  <tbody>\n",
       "    <tr>\n",
       "      <th>232</th>\n",
       "      <td>Honda Civic 1500 GL</td>\n",
       "      <td>44.6</td>\n",
       "      <td>4</td>\n",
       "      <td>91.0</td>\n",
       "      <td>67.0</td>\n",
       "      <td>1850</td>\n",
       "      <td>13.8</td>\n",
       "      <td>0.036216</td>\n",
       "    </tr>\n",
       "    <tr>\n",
       "      <th>395</th>\n",
       "      <td>Volkswagen Rabbit</td>\n",
       "      <td>41.5</td>\n",
       "      <td>4</td>\n",
       "      <td>98.0</td>\n",
       "      <td>76.0</td>\n",
       "      <td>2144</td>\n",
       "      <td>14.7</td>\n",
       "      <td>0.035448</td>\n",
       "    </tr>\n",
       "    <tr>\n",
       "      <th>290</th>\n",
       "      <td>Plymouth Champ</td>\n",
       "      <td>39.0</td>\n",
       "      <td>4</td>\n",
       "      <td>86.0</td>\n",
       "      <td>64.0</td>\n",
       "      <td>1875</td>\n",
       "      <td>16.4</td>\n",
       "      <td>0.034133</td>\n",
       "    </tr>\n",
       "    <tr>\n",
       "      <th>237</th>\n",
       "      <td>Honda Civic</td>\n",
       "      <td>38.0</td>\n",
       "      <td>4</td>\n",
       "      <td>91.0</td>\n",
       "      <td>67.0</td>\n",
       "      <td>1965</td>\n",
       "      <td>15.0</td>\n",
       "      <td>0.034097</td>\n",
       "    </tr>\n",
       "    <tr>\n",
       "      <th>130</th>\n",
       "      <td>Datsun B210 GX</td>\n",
       "      <td>39.4</td>\n",
       "      <td>4</td>\n",
       "      <td>85.0</td>\n",
       "      <td>70.0</td>\n",
       "      <td>2070</td>\n",
       "      <td>18.6</td>\n",
       "      <td>0.033816</td>\n",
       "    </tr>\n",
       "    <tr>\n",
       "      <th>373</th>\n",
       "      <td>Toyota Starlet</td>\n",
       "      <td>39.1</td>\n",
       "      <td>4</td>\n",
       "      <td>79.0</td>\n",
       "      <td>58.0</td>\n",
       "      <td>1755</td>\n",
       "      <td>16.9</td>\n",
       "      <td>0.033048</td>\n",
       "    </tr>\n",
       "    <tr>\n",
       "      <th>247</th>\n",
       "      <td>Mazda GLC</td>\n",
       "      <td>46.6</td>\n",
       "      <td>4</td>\n",
       "      <td>86.0</td>\n",
       "      <td>65.0</td>\n",
       "      <td>2110</td>\n",
       "      <td>17.9</td>\n",
       "      <td>0.030806</td>\n",
       "    </tr>\n",
       "    <tr>\n",
       "      <th>117</th>\n",
       "      <td>Datsun 210</td>\n",
       "      <td>40.8</td>\n",
       "      <td>4</td>\n",
       "      <td>85.0</td>\n",
       "      <td>65.0</td>\n",
       "      <td>2110</td>\n",
       "      <td>19.2</td>\n",
       "      <td>0.030806</td>\n",
       "    </tr>\n",
       "    <tr>\n",
       "      <th>357</th>\n",
       "      <td>Toyota Corolla Tercel</td>\n",
       "      <td>38.1</td>\n",
       "      <td>4</td>\n",
       "      <td>89.0</td>\n",
       "      <td>60.0</td>\n",
       "      <td>1968</td>\n",
       "      <td>18.8</td>\n",
       "      <td>0.030488</td>\n",
       "    </tr>\n",
       "    <tr>\n",
       "      <th>303</th>\n",
       "      <td>Plymouth Horizon Miser</td>\n",
       "      <td>38.0</td>\n",
       "      <td>4</td>\n",
       "      <td>105.0</td>\n",
       "      <td>63.0</td>\n",
       "      <td>2125</td>\n",
       "      <td>14.7</td>\n",
       "      <td>0.029647</td>\n",
       "    </tr>\n",
       "  </tbody>\n",
       "</table>\n",
       "</div>"
      ],
      "text/plain": [
       "                       type   mpg  cyl   disp    hp    wt  speed        hw\n",
       "232     Honda Civic 1500 GL  44.6    4   91.0  67.0  1850   13.8  0.036216\n",
       "395       Volkswagen Rabbit  41.5    4   98.0  76.0  2144   14.7  0.035448\n",
       "290          Plymouth Champ  39.0    4   86.0  64.0  1875   16.4  0.034133\n",
       "237             Honda Civic  38.0    4   91.0  67.0  1965   15.0  0.034097\n",
       "130          Datsun B210 GX  39.4    4   85.0  70.0  2070   18.6  0.033816\n",
       "373          Toyota Starlet  39.1    4   79.0  58.0  1755   16.9  0.033048\n",
       "247               Mazda GLC  46.6    4   86.0  65.0  2110   17.9  0.030806\n",
       "117              Datsun 210  40.8    4   85.0  65.0  2110   19.2  0.030806\n",
       "357   Toyota Corolla Tercel  38.1    4   89.0  60.0  1968   18.8  0.030488\n",
       "303  Plymouth Horizon Miser  38.0    4  105.0  63.0  2125   14.7  0.029647"
      ]
     },
     "execution_count": 20,
     "metadata": {},
     "output_type": "execute_result"
    }
   ],
>>>>>>> 2b5de55cbafcd3b09a30f1d86d0cb55847f73543
   "source": [
    "# YOUR ANSWER HERE\n",
    "# WORK ON THE RESULTANT DATFRAME FROM PREVIOUS QUESTION \n",
    "# AND TRANSFER YOUR RESULTS TO A NEW DATAFRAME   \n",
<<<<<<< HEAD
    "\n",
    "\n",
=======
    "df_cars_top15mpg['hw']=df_cars_top15mpg.hp/df_cars_top15mpg.wt\n",
    "df_cars_top15mpg\n",
    "df_cars_top10=df_cars_top15mpg.sort_values(by=['hw'],ascending=False).head(10)\n",
    "df_cars_top10\n",
>>>>>>> 2b5de55cbafcd3b09a30f1d86d0cb55847f73543
    "\n"
   ]
  },
  {
   "cell_type": "markdown",
   "metadata": {},
   "source": [
    "Lastly, Matt finds out that Canberra city only has authorized service centers for **Honda** and **Toyota**. If he buys any other car makes, he would have to go to Sydney for servicing and parts.\n",
    "\n",
    "4. How would you filter only the cars produced by Honda and Toyota from the above result?"
   ]
  },
  {
   "cell_type": "code",
<<<<<<< HEAD
   "execution_count": 21,
=======
<<<<<<< HEAD
   "execution_count": 20,
   "metadata": {},
   "outputs": [],
=======
   "execution_count": 59,
>>>>>>> 4a3a45cccd3b032ba58c5d71224e86e95624c9f0
   "metadata": {},
   "outputs": [
    {
     "data": {
      "text/html": [
       "<div>\n",
       "<style scoped>\n",
       "    .dataframe tbody tr th:only-of-type {\n",
       "        vertical-align: middle;\n",
       "    }\n",
       "\n",
       "    .dataframe tbody tr th {\n",
       "        vertical-align: top;\n",
       "    }\n",
       "\n",
       "    .dataframe thead th {\n",
       "        text-align: right;\n",
       "    }\n",
       "</style>\n",
       "<table border=\"1\" class=\"dataframe\">\n",
       "  <thead>\n",
       "    <tr style=\"text-align: right;\">\n",
       "      <th></th>\n",
       "      <th>type</th>\n",
       "      <th>mpg</th>\n",
       "      <th>cyl</th>\n",
       "      <th>disp</th>\n",
       "      <th>hp</th>\n",
       "      <th>wt</th>\n",
       "      <th>speed</th>\n",
       "      <th>hw</th>\n",
       "    </tr>\n",
       "  </thead>\n",
       "  <tbody>\n",
       "    <tr>\n",
       "      <th>232</th>\n",
       "      <td>Honda Civic 1500 GL</td>\n",
       "      <td>44.6</td>\n",
       "      <td>4</td>\n",
       "      <td>91.0</td>\n",
       "      <td>67.0</td>\n",
       "      <td>1850</td>\n",
       "      <td>13.8</td>\n",
       "      <td>0.036216</td>\n",
       "    </tr>\n",
       "    <tr>\n",
       "      <th>237</th>\n",
       "      <td>Honda Civic</td>\n",
       "      <td>38.0</td>\n",
       "      <td>4</td>\n",
       "      <td>91.0</td>\n",
       "      <td>67.0</td>\n",
       "      <td>1965</td>\n",
       "      <td>15.0</td>\n",
       "      <td>0.034097</td>\n",
       "    </tr>\n",
       "    <tr>\n",
       "      <th>373</th>\n",
       "      <td>Toyota Starlet</td>\n",
       "      <td>39.1</td>\n",
       "      <td>4</td>\n",
       "      <td>79.0</td>\n",
       "      <td>58.0</td>\n",
       "      <td>1755</td>\n",
       "      <td>16.9</td>\n",
       "      <td>0.033048</td>\n",
       "    </tr>\n",
       "    <tr>\n",
       "      <th>357</th>\n",
       "      <td>Toyota Corolla Tercel</td>\n",
       "      <td>38.1</td>\n",
       "      <td>4</td>\n",
       "      <td>89.0</td>\n",
       "      <td>60.0</td>\n",
       "      <td>1968</td>\n",
       "      <td>18.8</td>\n",
       "      <td>0.030488</td>\n",
       "    </tr>\n",
       "  </tbody>\n",
       "</table>\n",
       "</div>"
      ],
      "text/plain": [
       "                      type   mpg  cyl  disp    hp    wt  speed        hw\n",
       "232    Honda Civic 1500 GL  44.6    4  91.0  67.0  1850   13.8  0.036216\n",
       "237            Honda Civic  38.0    4  91.0  67.0  1965   15.0  0.034097\n",
       "373         Toyota Starlet  39.1    4  79.0  58.0  1755   16.9  0.033048\n",
       "357  Toyota Corolla Tercel  38.1    4  89.0  60.0  1968   18.8  0.030488"
      ]
     },
     "execution_count": 21,
     "metadata": {},
     "output_type": "execute_result"
    }
   ],
>>>>>>> 2b5de55cbafcd3b09a30f1d86d0cb55847f73543
   "source": [
    "# YOUR ANSWER HERE\n",
    "# WORK ON THE RESULTANT DATFRAME FROM PREVIOUS QUESTION \n",
    "# AND TRANSFER YOUR RESULTS TO A NEW DATAFRAME  \n",
    "\n",
<<<<<<< HEAD
    "\n"
=======
    "result=df_cars_top10[df_cars_top10.type.str.contains('Honda|Toyota')]\n",
    "result\n"
>>>>>>> 2b5de55cbafcd3b09a30f1d86d0cb55847f73543
   ]
  },
  {
   "cell_type": "markdown",
   "metadata": {},
   "source": [
    "If all went well, you would have provided your friend with a choice between **4 cars**, which is a pretty good shortlist, considering you started with **406 cars** in your original dataset. **GOOD JOB!**"
   ]
  },
  {
   "cell_type": "markdown",
   "metadata": {},
   "source": [
    "<h3 align='center'>NumPy</h3>\n",
    "\n",
    "**NumPy** is a core Python module for scientific computation. It provides a high-performance multidimensional array object, and tools for working with these arrays.\n",
    "\n",
    "\n",
    "### Arrays\n",
    "\n",
    "A NumPy **Array** is a grid of values, all of the same type, and is indexed by a tuple of non-negative integers. The number of dimensions is the rank of the array; the shape of an array is a tuple of integers giving the size of the array along each dimension. We can initialize numpy arrays from nested Python lists, and access elements using square brackets."
   ]
  },
  {
   "cell_type": "code",
   "execution_count": 22,
   "metadata": {},
   "outputs": [
    {
     "name": "stdout",
     "output_type": "stream",
     "text": [
      "\n",
      " Deterministic 1-dimensional array \n",
      "\n",
      "[ 2  5 18 14  4]\n",
      "Shape: (5,)\n"
     ]
    }
   ],
   "source": [
    "# 1-dimensional arrays\n",
    "x = np.array([2,5,18,14,4])\n",
    "print (\"\\n Deterministic 1-dimensional array \\n\")\n",
    "print (x)\n",
    "print (\"Shape:\", x.shape)"
   ]
  },
  {
   "cell_type": "code",
   "execution_count": 23,
   "metadata": {},
   "outputs": [
    {
     "name": "stdout",
     "output_type": "stream",
     "text": [
      "\n",
      " Deterministic 2-dimensional array \n",
      "\n",
      "[[ 2  5 18 14  4]\n",
      " [12 15  1  2  8]]\n",
      "Shape: (2, 5)\n",
      "\n",
      " Random 5x5 2-dimensional array \n",
      "\n",
      "[[0.40934916 0.23666394 0.50430882 0.60688355 0.366316  ]\n",
      " [0.95592123 0.040749   0.47171326 0.56423974 0.91024429]\n",
      " [0.79609776 0.463916   0.957016   0.92466423 0.25855428]\n",
      " [0.19374582 0.50855719 0.70753489 0.86821153 0.67367654]\n",
      " [0.099358   0.80104719 0.15160297 0.99740646 0.6223271 ]]\n",
      "Shape: (5, 5)\n"
     ]
    }
   ],
   "source": [
    "# 2-dimensional arrays\n",
    "x = np.array([[2,5,18,14,4], [12,15,1,2,8]])\n",
    "print (\"\\n Deterministic 2-dimensional array \\n\")\n",
    "print (x)\n",
    "print (\"Shape:\", x.shape)\n",
    "\n",
    "# 2-dimensional random generated array\n",
    "x = np.random.rand(5,5)\n",
    "print (\"\\n Random 5x5 2-dimensional array \\n\")\n",
    "print (x)\n",
    "print (\"Shape:\", x.shape)"
   ]
  },
  {
   "cell_type": "code",
   "execution_count": 24,
   "metadata": {},
   "outputs": [
    {
     "name": "stdout",
     "output_type": "stream",
     "text": [
      "\n",
      " 4x4 array with zeros \n",
      "\n",
      "[[0. 0. 0. 0.]\n",
      " [0. 0. 0. 0.]\n",
      " [0. 0. 0. 0.]\n",
      " [0. 0. 0. 0.]]\n",
      "Shape: (4, 4)\n"
     ]
    }
   ],
   "source": [
    "# 4x4 array of zeroes\n",
    "x = np.zeros((4,4))\n",
    "print (\"\\n 4x4 array with zeros \\n\")\n",
    "print(x)\n",
    "print (\"Shape:\", x.shape)"
   ]
  },
  {
   "cell_type": "code",
   "execution_count": 25,
   "metadata": {},
   "outputs": [
    {
     "name": "stdout",
     "output_type": "stream",
     "text": [
      "\n",
      " 4x4 array with ones \n",
      "\n",
      "[[1. 1. 1. 1.]\n",
      " [1. 1. 1. 1.]\n",
      " [1. 1. 1. 1.]\n",
      " [1. 1. 1. 1.]]\n",
      "Shape: (4, 4)\n"
     ]
    }
   ],
   "source": [
    "# 4x4 array of ones\n",
    "x = np.ones((4,4))\n",
    "print (\"\\n 4x4 array with ones \\n\")\n",
    "print (x)\n",
    "print (\"Shape:\", x.shape)"
   ]
  },
  {
   "cell_type": "code",
   "execution_count": 26,
   "metadata": {},
   "outputs": [
    {
     "name": "stdout",
     "output_type": "stream",
     "text": [
      "\n",
      " Identity matrix of size 4\n",
      "\n",
      "[[1. 0. 0. 0.]\n",
      " [0. 1. 0. 0.]\n",
      " [0. 0. 1. 0.]\n",
      " [0. 0. 0. 1.]]\n",
      "Shape: (4, 4)\n"
     ]
    }
   ],
   "source": [
    "# identity matrix of size 4\n",
    "x = np.eye(4)\n",
    "print (\"\\n Identity matrix of size 4\\n\")\n",
    "print(x)\n",
    "print (\"Shape:\", x.shape)"
   ]
  },
  {
   "cell_type": "markdown",
   "metadata": {},
   "source": [
    "### Manipulating Arrays"
   ]
  },
  {
   "cell_type": "code",
   "execution_count": 27,
   "metadata": {},
   "outputs": [
    {
     "name": "stdout",
     "output_type": "stream",
     "text": [
      "[[0.33382181 0.91421365 0.55637107]\n",
      " [0.66734744 0.79764463 0.32533181]\n",
      " [0.61336584 0.82427493 0.80013361]\n",
      " [0.61563773 0.66346769 0.56230044]]\n",
      "\n",
      " Row zero \n",
      "\n",
      "[0.33382181 0.91421365 0.55637107]\n",
      "\n",
      " Column 2 \n",
      "\n",
      "[0.55637107 0.32533181 0.80013361 0.56230044]\n",
      "\n",
      " Submatrix \n",
      "\n",
      "[[0.66734744 0.79764463]\n",
      " [0.61336584 0.82427493]]\n",
      "\n",
      " Entries > 0.5 \n",
      "\n",
      "[0.91421365 0.55637107 0.66734744 0.79764463 0.61336584 0.82427493\n",
      " 0.80013361 0.61563773 0.66346769 0.56230044]\n",
      "\n",
      " Single Element\n",
      "\n",
      "0.32533181180726645\n"
     ]
    }
   ],
   "source": [
    "x = np.random.rand(4,3)\n",
    "print(x)\n",
    "print(\"\\n Row zero \\n\")\n",
    "print(x[0])\n",
    "print(\"\\n Column 2 \\n\")\n",
    "print(x[:,2])\n",
    "print(\"\\n Submatrix \\n\")\n",
    "print(x[1:3,0:2])\n",
    "print(\"\\n Entries > 0.5 \\n\")\n",
    "print(x[x>0.5])\n",
    "print(\"\\n Single Element\\n\")\n",
    "print(x[1,2])"
   ]
  },
  {
   "cell_type": "markdown",
   "metadata": {},
   "source": [
    "### Array Arithmetic"
   ]
  },
  {
   "cell_type": "code",
   "execution_count": 28,
   "metadata": {},
   "outputs": [
    {
     "name": "stdout",
     "output_type": "stream",
     "text": [
      "[[0.59865122 0.52269393 0.04381965 0.56081167]\n",
      " [0.84450845 0.33020616 0.5709988  0.49283905]]\n",
      "\n",
      " Mean value of all elements\n",
      "0.4955661160401096\n",
      "\n",
      " Standard Deviation of all elements\n",
      "0.21636095528392157\n",
      "\n",
      " Median value of all elements\n",
      "0.5417527978174068\n",
      "\n",
      " Sum of all elements\n",
      "3.9645289283208767\n",
      "\n",
      " Product of all elements\n",
      "0.000603443701475907\n",
      "\n",
      " Transpose of the matrix \n",
      "\n",
      "[[0.59865122 0.84450845]\n",
      " [0.52269393 0.33020616]\n",
      " [0.04381965 0.5709988 ]\n",
      " [0.56081167 0.49283905]]\n",
      "Shape: (4, 2)\n",
      "\n",
      " Matrix 2x+1 \n",
      "\n",
      "[[2.19730244 2.04538786 1.0876393  2.12162333]\n",
      " [2.68901691 1.66041232 2.1419976  1.98567809]]\n",
      "\n",
      " y: [ 2 -1  3]\n",
      " z: [-1  2  2]\n",
      "\n",
      " Vector-Vector Dot Product\n",
      "2\n"
     ]
    }
   ],
   "source": [
    "x = np.random.rand(2,4)\n",
    "print (x)\n",
    "print('\\n Mean value of all elements')\n",
    "print (np.mean(x))\n",
    "\n",
    "print('\\n Standard Deviation of all elements')\n",
    "print (np.std(x)) \n",
    "\n",
    "print('\\n Median value of all elements')\n",
    "print (np.median(x)) \n",
    "\n",
    "print('\\n Sum of all elements')\n",
    "print (np.sum(x)) \n",
    "\n",
    "print('\\n Product of all elements')\n",
    "print (np.prod(x)) \n",
    "\n",
    "print (\"\\n Transpose of the matrix \\n\")\n",
    "print (x.T)\n",
    "print (\"Shape:\", x.T.shape)\n",
    "\n",
    "# Multiplication and addition with scalar value\n",
    "print(\"\\n Matrix 2x+1 \\n\") \n",
    "print(2*x + 1)\n",
    "\n",
    "y = np.array([2,-1,3])\n",
    "z = np.array([-1,2,2])\n",
    "# Vector-Vector Dot Product\n",
    "print('\\n y:',y)\n",
    "print(' z:',z)\n",
    "print('\\n Vector-Vector Dot Product')\n",
    "print(np.dot(y,z))"
   ]
  },
  {
   "cell_type": "markdown",
   "metadata": {},
   "source": [
    "## Exercise 2\n",
    "\n",
    "We have borrowed the following example from [Philipp Janert](http://shop.oreilly.com/product/9780596802363.do)’s book. In this example we will use the famous Iris Flower dataset.\n",
    "\n",
    "We will do some Machine Learning (ML) without explicitly using any fancy ML techniques. We have two different sets of data with us for this dataset\n",
    "\n",
    "* [Train Data](./iris_train.csv), and \n",
    "* [Test Data](./iris_test.csv)\n",
    "\n",
    "You should download both files and save it under a directory named ‘data’ in your current working directory. \n",
    "\n",
    "Iris data has five columns, namely - \n",
    "* sepal_length \n",
    "* sepal_width \n",
    "* pedal_length \n",
    "* pedal_width \n",
    "* class\n",
    "\n",
    "Description of each field can be found [here](https://archive.ics.uci.edu/ml/datasets/iris).\n",
    "\n",
    "Our dumb ML algorithm is known as **Nearest Neighbour Approach**, where we will predict the class label for a point in test set to be equal to class label of the nearest point in train set. Since, Nearest Neighbour Algorithm has not been covered in class yet, you only need to have a rudimentary understanding of the algorithm to implement it. The link would help you understand it better.\n",
    "\n",
    "[<img src='./kNN.png'>](https://medium.com/@adi.bronshtein/a-quick-introduction-to-k-nearest-neighbors-algorithm-62214cea29c7)\n",
    "Click **[k-NN(k-Nearest Neighbours Classification)](https://medium.com/@adi.bronshtein/a-quick-introduction-to-k-nearest-neighbors-algorithm-62214cea29c7)** or the image above to know more about this algorithm.\n",
    "\n",
    "**HINT 1**: _For 2.1, 2.2, 2.3, 2.4, it would be worth looking at examples in class on how to read numpy arrays from csv files._\n",
    "\n",
    "**HINT 2**: _Consider using np.argmin for task 5. You can also have a look at the class example to see how we got distance of a point from all other points._\n",
    "\n",
    "1. Read the train set data into a numpy array (you can call it **train_features**) to get the train features. Use columns 0,1,2,3 from the csv."
   ]
  },
  {
   "cell_type": "code",
<<<<<<< HEAD
   "execution_count": 42,
=======
<<<<<<< HEAD
   "execution_count": 28,
   "metadata": {},
   "outputs": [],
   "source": [
    "# YOUR ANSWER HERE\n",
    "\n",
    "\n"
=======
   "execution_count": 102,
>>>>>>> 4a3a45cccd3b032ba58c5d71224e86e95624c9f0
   "metadata": {},
   "outputs": [
    {
     "data": {
      "text/plain": [
       "array([[5.1, 3.5, 1.4, 0.2],\n",
       "       [4.9, 3. , 1.4, 0.2],\n",
       "       [4.7, 3.2, 1.3, 0.2],\n",
       "       [4.6, 3.1, 1.5, 0.2],\n",
       "       [5. , 3.4, 1.5, 0.2],\n",
       "       [4.4, 2.9, 1.4, 0.2],\n",
       "       [4.9, 3.1, 1.5, 0.1],\n",
       "       [5.4, 3.7, 1.5, 0.2],\n",
       "       [4.8, 3.4, 1.6, 0.2],\n",
       "       [4.8, 3. , 1.4, 0.1],\n",
       "       [4.3, 3. , 1.1, 0.1],\n",
       "       [5.8, 4. , 1.2, 0.2],\n",
       "       [5.7, 4.4, 1.5, 0.4],\n",
       "       [5.1, 3.5, 1.4, 0.3],\n",
       "       [5.7, 3.8, 1.7, 0.3],\n",
       "       [5.1, 3.8, 1.5, 0.3],\n",
       "       [5.4, 3.4, 1.7, 0.2],\n",
       "       [5.1, 3.7, 1.5, 0.4],\n",
       "       [4.6, 3.6, 1. , 0.2],\n",
       "       [5.1, 3.3, 1.7, 0.5],\n",
       "       [4.8, 3.4, 1.9, 0.2],\n",
       "       [5. , 3. , 1.6, 0.2],\n",
       "       [5.2, 3.5, 1.5, 0.2],\n",
       "       [5.2, 3.4, 1.4, 0.2],\n",
       "       [4.7, 3.2, 1.6, 0.2],\n",
       "       [4.8, 3.1, 1.6, 0.2],\n",
       "       [5.4, 3.4, 1.5, 0.4],\n",
       "       [5.2, 4.1, 1.5, 0.1],\n",
       "       [5.5, 4.2, 1.4, 0.2],\n",
       "       [4.9, 3.1, 1.5, 0.1],\n",
       "       [5. , 3.2, 1.2, 0.2],\n",
       "       [5.5, 3.5, 1.3, 0.2],\n",
       "       [4.9, 3.1, 1.5, 0.1],\n",
       "       [4.4, 3. , 1.3, 0.2],\n",
       "       [5.1, 3.4, 1.5, 0.2],\n",
       "       [5. , 3.5, 1.3, 0.3],\n",
       "       [4.5, 2.3, 1.3, 0.3],\n",
       "       [4.4, 3.2, 1.3, 0.2],\n",
       "       [5. , 3.5, 1.6, 0.6],\n",
       "       [5.1, 3.8, 1.9, 0.4],\n",
       "       [4.8, 3. , 1.4, 0.3],\n",
       "       [5.1, 3.8, 1.6, 0.2],\n",
       "       [4.6, 3.2, 1.4, 0.2],\n",
       "       [5.3, 3.7, 1.5, 0.2],\n",
       "       [5. , 3.3, 1.4, 0.2],\n",
       "       [6.3, 3.3, 6. , 2.5],\n",
       "       [5.8, 2.7, 5.1, 1.9],\n",
       "       [7.1, 3. , 5.9, 2.1],\n",
       "       [6.3, 2.9, 5.6, 1.8],\n",
       "       [6.5, 3. , 5.8, 2.2],\n",
       "       [7.6, 3. , 6.6, 2.1],\n",
       "       [4.9, 2.5, 4.5, 1.7],\n",
       "       [7.3, 2.9, 6.3, 1.8],\n",
       "       [6.7, 2.5, 5.8, 1.8],\n",
       "       [6.5, 3.2, 5.1, 2. ],\n",
       "       [6.4, 2.7, 5.3, 1.9],\n",
       "       [6.8, 3. , 5.5, 2.1],\n",
       "       [5.7, 2.5, 5. , 2. ],\n",
       "       [5.8, 2.8, 5.1, 2.4],\n",
       "       [6.4, 3.2, 5.3, 2.3],\n",
       "       [6.5, 3. , 5.5, 1.8],\n",
       "       [7.7, 3.8, 6.7, 2.2],\n",
       "       [7.7, 2.6, 6.9, 2.3],\n",
       "       [6.9, 3.2, 5.7, 2.3],\n",
       "       [5.6, 2.8, 4.9, 2. ],\n",
       "       [7.7, 2.8, 6.7, 2. ],\n",
       "       [6.3, 2.7, 4.9, 1.8],\n",
       "       [6.7, 3.3, 5.7, 2.1],\n",
       "       [7.2, 3.2, 6. , 1.8],\n",
       "       [6.2, 2.8, 4.8, 1.8],\n",
       "       [6.1, 3. , 4.9, 1.8],\n",
       "       [6.4, 2.8, 5.6, 2.1],\n",
       "       [7.2, 3. , 5.8, 1.6],\n",
       "       [7.4, 2.8, 6.1, 1.9],\n",
       "       [7.9, 3.8, 6.4, 2. ],\n",
       "       [6.3, 2.8, 5.1, 1.5],\n",
       "       [6.1, 2.6, 5.6, 1.4],\n",
       "       [7.7, 3. , 6.1, 2.3],\n",
       "       [6.3, 3.4, 5.6, 2.4],\n",
       "       [6.4, 3.1, 5.5, 1.8],\n",
       "       [6.9, 3.1, 5.4, 2.1],\n",
       "       [6.7, 3.1, 5.6, 2.4],\n",
       "       [6.9, 3.1, 5.1, 2.3],\n",
       "       [6.8, 3.2, 5.9, 2.3],\n",
       "       [6.7, 3.3, 5.7, 2.5],\n",
       "       [6.7, 3. , 5.2, 2.3],\n",
       "       [6.3, 2.5, 5. , 1.9],\n",
       "       [6.5, 3. , 5.2, 2. ],\n",
       "       [6.2, 3.4, 5.4, 2.3],\n",
       "       [5.9, 3. , 5.1, 1.8],\n",
       "       [6.4, 3.2, 4.5, 1.5],\n",
       "       [6.9, 3.1, 4.9, 1.5],\n",
       "       [5.5, 2.3, 4. , 1.3],\n",
       "       [6.5, 2.8, 4.6, 1.5],\n",
       "       [5.7, 2.8, 4.5, 1.3],\n",
       "       [6.3, 3.3, 4.7, 1.6],\n",
       "       [4.9, 2.4, 3.3, 1. ],\n",
       "       [6.6, 2.9, 4.6, 1.3],\n",
       "       [5.2, 2.7, 3.9, 1.4],\n",
       "       [5. , 2. , 3.5, 1. ],\n",
       "       [6. , 2.2, 4. , 1. ],\n",
       "       [6.1, 2.9, 4.7, 1.4],\n",
       "       [5.6, 2.9, 3.6, 1.3],\n",
       "       [5.6, 3. , 4.5, 1.5],\n",
       "       [5.8, 2.7, 4.1, 1. ],\n",
       "       [6.2, 2.2, 4.5, 1.5],\n",
       "       [5.6, 2.5, 3.9, 1.1],\n",
       "       [5.9, 3.2, 4.8, 1.8],\n",
       "       [6.1, 2.8, 4. , 1.3],\n",
       "       [6.3, 2.5, 4.9, 1.5],\n",
       "       [6.1, 2.8, 4.7, 1.2],\n",
       "       [6.6, 3. , 4.4, 1.4],\n",
       "       [6.8, 2.8, 4.8, 1.4],\n",
       "       [6.7, 3. , 5. , 1.7],\n",
       "       [6. , 2.9, 4.5, 1.5],\n",
       "       [5.7, 2.6, 3.5, 1. ],\n",
       "       [5.5, 2.4, 3.8, 1.1],\n",
       "       [5.5, 2.4, 3.7, 1. ],\n",
       "       [5.8, 2.7, 3.9, 1.2],\n",
       "       [6. , 2.7, 5.1, 1.6],\n",
       "       [6. , 3.4, 4.5, 1.6],\n",
       "       [6.7, 3.1, 4.7, 1.5],\n",
       "       [6.3, 2.3, 4.4, 1.3],\n",
       "       [5.6, 3. , 4.1, 1.3],\n",
       "       [5.5, 2.5, 4. , 1.3],\n",
       "       [5.5, 2.6, 4.4, 1.2],\n",
       "       [6.1, 3. , 4.6, 1.4],\n",
       "       [5.8, 2.6, 4. , 1.2],\n",
       "       [5. , 2.3, 3.3, 1. ],\n",
       "       [5.6, 2.7, 4.2, 1.3],\n",
       "       [5.7, 3. , 4.2, 1.2],\n",
       "       [5.7, 2.9, 4.2, 1.3],\n",
       "       [6.2, 2.9, 4.3, 1.3],\n",
       "       [5.1, 2.5, 3. , 1.1],\n",
       "       [5.7, 2.8, 4.1, 1.3]])"
      ]
     },
     "execution_count": 42,
     "metadata": {},
     "output_type": "execute_result"
    }
   ],
   "source": [
    "# YOUR ANSWER HERE\n",
    "\n",
    "train_features=np.loadtxt('iris_train.csv',delimiter=',',usecols=(0,1,2,3),skiprows=1)\n",
    "train_features"
>>>>>>> 2b5de55cbafcd3b09a30f1d86d0cb55847f73543
   ]
  },
  {
   "cell_type": "markdown",
   "metadata": {},
   "source": [
    "2. Read the train set labels into a numpy array (you can call it **train_labels**) to get the training labels/classes. Use only column 4 for this array."
   ]
  },
  {
   "cell_type": "code",
<<<<<<< HEAD
   "execution_count": 43,
=======
<<<<<<< HEAD
   "execution_count": 29,
   "metadata": {},
   "outputs": [],
=======
   "execution_count": 104,
>>>>>>> 4a3a45cccd3b032ba58c5d71224e86e95624c9f0
   "metadata": {},
   "outputs": [
    {
     "data": {
      "text/plain": [
       "array(['Iris-setosa', 'Iris-setosa', 'Iris-setosa', 'Iris-setosa',\n",
       "       'Iris-setosa', 'Iris-setosa', 'Iris-setosa', 'Iris-setosa',\n",
       "       'Iris-setosa', 'Iris-setosa', 'Iris-setosa', 'Iris-setosa',\n",
       "       'Iris-setosa', 'Iris-setosa', 'Iris-setosa', 'Iris-setosa',\n",
       "       'Iris-setosa', 'Iris-setosa', 'Iris-setosa', 'Iris-setosa',\n",
       "       'Iris-setosa', 'Iris-setosa', 'Iris-setosa', 'Iris-setosa',\n",
       "       'Iris-setosa', 'Iris-setosa', 'Iris-setosa', 'Iris-setosa',\n",
       "       'Iris-setosa', 'Iris-setosa', 'Iris-setosa', 'Iris-setosa',\n",
       "       'Iris-setosa', 'Iris-setosa', 'Iris-setosa', 'Iris-setosa',\n",
       "       'Iris-setosa', 'Iris-setosa', 'Iris-setosa', 'Iris-setosa',\n",
       "       'Iris-setosa', 'Iris-setosa', 'Iris-setosa', 'Iris-setosa',\n",
       "       'Iris-setosa', 'Iris-virginica', 'Iris-virginica',\n",
       "       'Iris-virginica', 'Iris-virginica', 'Iris-virginica',\n",
       "       'Iris-virginica', 'Iris-virginica', 'Iris-virginica',\n",
       "       'Iris-virginica', 'Iris-virginica', 'Iris-virginica',\n",
       "       'Iris-virginica', 'Iris-virginica', 'Iris-virginica',\n",
       "       'Iris-virginica', 'Iris-virginica', 'Iris-virginica',\n",
       "       'Iris-virginica', 'Iris-virginica', 'Iris-virginica',\n",
       "       'Iris-virginica', 'Iris-virginica', 'Iris-virginica',\n",
       "       'Iris-virginica', 'Iris-virginica', 'Iris-virginica',\n",
       "       'Iris-virginica', 'Iris-virginica', 'Iris-virginica',\n",
       "       'Iris-virginica', 'Iris-virginica', 'Iris-virginica',\n",
       "       'Iris-virginica', 'Iris-virginica', 'Iris-virginica',\n",
       "       'Iris-virginica', 'Iris-virginica', 'Iris-virginica',\n",
       "       'Iris-virginica', 'Iris-virginica', 'Iris-virginica',\n",
       "       'Iris-virginica', 'Iris-virginica', 'Iris-virginica',\n",
       "       'Iris-virginica', 'Iris-versicolor', 'Iris-versicolor',\n",
       "       'Iris-versicolor', 'Iris-versicolor', 'Iris-versicolor',\n",
       "       'Iris-versicolor', 'Iris-versicolor', 'Iris-versicolor',\n",
       "       'Iris-versicolor', 'Iris-versicolor', 'Iris-versicolor',\n",
       "       'Iris-versicolor', 'Iris-versicolor', 'Iris-versicolor',\n",
       "       'Iris-versicolor', 'Iris-versicolor', 'Iris-versicolor',\n",
       "       'Iris-versicolor', 'Iris-versicolor', 'Iris-versicolor',\n",
       "       'Iris-versicolor', 'Iris-versicolor', 'Iris-versicolor',\n",
       "       'Iris-versicolor', 'Iris-versicolor', 'Iris-versicolor',\n",
       "       'Iris-versicolor', 'Iris-versicolor', 'Iris-versicolor',\n",
       "       'Iris-versicolor', 'Iris-versicolor', 'Iris-versicolor',\n",
       "       'Iris-versicolor', 'Iris-versicolor', 'Iris-versicolor',\n",
       "       'Iris-versicolor', 'Iris-versicolor', 'Iris-versicolor',\n",
       "       'Iris-versicolor', 'Iris-versicolor', 'Iris-versicolor',\n",
       "       'Iris-versicolor', 'Iris-versicolor', 'Iris-versicolor',\n",
       "       'Iris-versicolor'], dtype='<U15')"
      ]
     },
     "execution_count": 43,
     "metadata": {},
     "output_type": "execute_result"
    }
   ],
>>>>>>> 2b5de55cbafcd3b09a30f1d86d0cb55847f73543
   "source": [
    "# YOUR ANSWER HERE\n",
    "\n",
    "# Print unique labels\n",
    "\n",
<<<<<<< HEAD
    "train_labels=np.loadtxt('iris_train.csv',delimiter=',',dtype= \"unicode\",usecols=(4),skiprows=1)\n",
=======
<<<<<<< HEAD
    "\n"
=======
    "train_labels=np.genfromtxt('iris_train.csv',delimiter=',',usecols=(4))\n",
>>>>>>> 4a3a45cccd3b032ba58c5d71224e86e95624c9f0
    "train_labels"
>>>>>>> 2b5de55cbafcd3b09a30f1d86d0cb55847f73543
   ]
  },
  {
   "cell_type": "markdown",
   "metadata": {},
   "source": [
    "3. Similarly, read the test set data into a numpy array(you  can call it **test_features**) to get test features, using columns 0,1,2,3 from the iris_test.csv. Also, read the test set labels into a numpy array(and call it **test_labels**) to get test labels/classes, using only column 4."
   ]
  },
  {
   "cell_type": "code",
<<<<<<< HEAD
   "execution_count": 48,
=======
<<<<<<< HEAD
   "execution_count": 30,
   "metadata": {},
   "outputs": [],
   "source": [
    "# YOUR ANSWER HERE\n",
    "\n",
    "\n"
=======
   "execution_count": 109,
>>>>>>> 4a3a45cccd3b032ba58c5d71224e86e95624c9f0
   "metadata": {},
   "outputs": [],
   "source": [
    "# YOUR ANSWER HERE\n",
    "test_features=np.loadtxt('iris_test.csv',delimiter=',',usecols=(0,1,2,3),skiprows=1)\n",
    "\n",
<<<<<<< HEAD
    "test_labels=np.loadtxt('iris_test.csv',delimiter=',',usecols=(4),dtype=\"unicode\",skiprows=1)\n"
=======
    "test_labels=np.genfromtxt('iris_test.csv',delimiter=',',usecols=(4))\n"
>>>>>>> 2b5de55cbafcd3b09a30f1d86d0cb55847f73543
>>>>>>> 4a3a45cccd3b032ba58c5d71224e86e95624c9f0
   ]
  },
  {
   "cell_type": "markdown",
   "metadata": {},
   "source": [
    "4. Write code for the following -\n",
    "    * For each point in the test set, find the closest point in the train set.\n",
    "    \n",
    "    * The test instance gets the label of the closest point, save it as predicted_label."
   ]
  },
  {
   "cell_type": "code",
   "execution_count": 62,
   "metadata": {},
   "outputs": [
    {
     "name": "stdout",
     "output_type": "stream",
     "text": [
      "5.808578875171463\n",
      "7.617171467764052\n",
      "7.577764060356649\n",
      "8.03650480109739\n",
      "6.132134430727018\n",
      "2.361245541838137\n",
      "9.34472702331962\n",
      "2.4101344307270254\n",
      "1.4755418381344332\n",
      "4.7682825788751755\n",
      "0.2922825788751727\n",
      "0.6362085048010985\n",
      "0.835097393689988\n",
      "2.297838134430729\n",
      "1.1958381344307287\n"
     ]
    }
   ],
   "source": [
    "# YOUR ANSWER HERE\n",
    "\n",
    "# Going through each point in dataset\n",
    "\n",
    "    # Calculating difference between a point in test set \n",
    "    # to all points in train set\n",
    "mean=train_features.mean(axis=0)\n",
    "for point in test_features:\n",
    "    distance=np.square(point-mean)\n",
    "    print(sum(distance))\n",
    "    # Finding the location of the nearest point in train set\n",
    "   \n",
    "    "
   ]
  },
  {
   "cell_type": "markdown",
   "metadata": {},
   "source": [
    "5. Now find the accuracy of our predictions by comparing the value of **predicted_label** with **test_label** for each value in the **test_labels**. "
   ]
  },
  {
   "cell_type": "code",
   "execution_count": 32,
   "metadata": {},
   "outputs": [],
   "source": [
    "# YOUR ANSWER HERE\n",
    "\n",
    "\n"
   ]
  }
 ],
 "metadata": {
  "kernelspec": {
   "display_name": "Python 3",
   "language": "python",
   "name": "python3"
  },
  "language_info": {
   "codemirror_mode": {
    "name": "ipython",
    "version": 3
   },
   "file_extension": ".py",
   "mimetype": "text/x-python",
   "name": "python",
   "nbconvert_exporter": "python",
   "pygments_lexer": "ipython3",
<<<<<<< HEAD
   "version": "3.6.8"
=======
   "version": "3.7.1"
>>>>>>> 2b5de55cbafcd3b09a30f1d86d0cb55847f73543
  }
 },
 "nbformat": 4,
 "nbformat_minor": 2
}
